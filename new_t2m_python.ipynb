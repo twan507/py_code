{
 "cells": [
  {
   "cell_type": "code",
   "execution_count": 273,
   "metadata": {},
   "outputs": [],
   "source": [
    "import os\n",
    "import pandas as pd\n",
    "import numpy as np\n",
    "from datetime import datetime, timedelta\n",
    "import datetime as dt\n",
    "import copy\n",
    "from sqlalchemy import create_engine, MetaData\n",
    "\n",
    "import warnings\n",
    "warnings.filterwarnings(\"ignore\")\n",
    "warnings.simplefilter('ignore', category=FutureWarning)\n",
    "pd.options.mode.chained_assignment = None"
   ]
  },
  {
   "cell_type": "markdown",
   "metadata": {},
   "source": [
    "#### Import Data"
   ]
  },
  {
   "cell_type": "code",
   "execution_count": 274,
   "metadata": {},
   "outputs": [],
   "source": [
    "#Đọc name map để chuyển đỏi các tên thành dạng full\n",
    "name_map = pd.read_excel(\"data/t2m_classification.xlsx\", sheet_name='name_map').drop(columns=['group'],axis=1)\n",
    "name_map_dict = name_map.set_index('code')['full_name'].to_dict()"
   ]
  },
  {
   "cell_type": "code",
   "execution_count": 275,
   "metadata": {},
   "outputs": [],
   "source": [
    "#Đọc toàn bộ các file csv được xuất ra từ ami eod\n",
    "eod_item_dict = {}\n",
    "folder_path = '../ami_eod_data'\n",
    "for filename in os.listdir(folder_path):\n",
    "    if filename.endswith('.csv'):\n",
    "        key = os.path.splitext(filename)[0]\n",
    "        eod_item_dict[key] = pd.read_csv(os.path.join(folder_path, filename)).sort_values('date', ascending=False).reset_index(drop=True)\n",
    "\n",
    "for item, df in eod_item_dict.items():\n",
    "    df['date'] = pd.to_datetime(df['date'].astype(str), format='%y%m%d')\n",
    "    eod_item_dict[item] = df\n",
    "\n",
    "#Tạo bảng tổng hớp tất cả các item\n",
    "eod_item_df = pd.DataFrame(list(eod_item_dict.keys())).rename(columns={0:'item'})\n",
    "eod_item_df['len'] = eod_item_df['item'].apply(lambda x: len(x))\n",
    "eod_item_df['last_2chars'] = eod_item_df['item'].str[-2:]\n",
    "eod_item_df['first_4chars'] = eod_item_df['item'].str[:4]\n",
    "\n",
    "#Lọc ra danh sách tên các cổ phiếu và index\n",
    "stock_name_df = eod_item_df[eod_item_df['len']==3].reset_index(drop=True).drop(['len','last_2chars','first_4chars'], axis=1)\n",
    "index_name_df = eod_item_df[(eod_item_df['len']>3) & (eod_item_df['len']!=6) & (eod_item_df['len']<10) & \n",
    "                (eod_item_df['item']!='0001')].reset_index(drop=True).drop(['len','last_2chars','first_4chars'], axis=1)\n",
    "                \n",
    "eod_stock_dict = {k:v.drop(['option'], axis=1) for k,v in eod_item_dict.items() if k in stock_name_df['item'].tolist()}\n",
    "eod_index_dict = {k:v.rename(columns={'option':'value'}).drop('cap', axis=1)\n",
    "                for k,v in eod_item_dict.items() if k in index_name_df['item'].tolist()}\n",
    "\n",
    "#Lọc ra danh sách tên các cổ phiếu, index giao dịch tự doanh và nước ngoài\n",
    "stock_td_nn_df = eod_item_df[(eod_item_df['len']==6) & (eod_item_df['last_2chars'].isin(['TD','NN']))].reset_index(drop=True).drop(['len','last_2chars','first_4chars'], axis=1)\n",
    "index_td_nn_df = eod_item_df[(eod_item_df['len']>=10) & (eod_item_df['first_4chars']!='VN30') & ((eod_item_df['last_2chars']=='NN') | (eod_item_df['last_2chars']=='TD'))].reset_index(drop=True).drop(['len','last_2chars','first_4chars'], axis=1)\n",
    "\n",
    "stock_td_nn_dict = {k:v.drop(['high','low','cap'], axis=1).rename(columns={'open':'sell_volume','close':'buy_volume','volume':'sell_value','option':'buy_value'})\n",
    "                    for k,v in eod_item_dict.items() if k in stock_td_nn_df['item'].tolist()}\n",
    "index_td_nn_dict = {k:v.drop(['high','low','cap','stock'], axis=1).rename(columns={'open':'sell_volume','close':'buy_volume','volume':'sell_value','option':'buy_value'})\n",
    "                    for k,v in eod_item_dict.items() if k in index_td_nn_df['item'].tolist()}\n",
    "\n",
    "#Điều chỉnh đơn vị của các bảng NN và TD\n",
    "for df in index_td_nn_dict.values():\n",
    "    df['buy_volume'] = df['buy_volume']/1000\n",
    "    df['sell_volume'] = -df['sell_volume']/1000\n",
    "    df['buy_value'] = df['buy_value']/1000000000\n",
    "    df['sell_value'] = -df['sell_value']/1000000000\n",
    "    df['net_volume'] = df['buy_volume'] + df['sell_volume']\n",
    "    df['net_value'] = df['buy_value'] + df['sell_value']"
   ]
  },
  {
   "cell_type": "code",
   "execution_count": 276,
   "metadata": {},
   "outputs": [],
   "source": [
    "#Tạo một date_series bao gồm khoảng ngày tính toán eod\n",
    "date_series = pd.DataFrame(eod_index_dict['VNINDEX']['date']).rename(columns={0:'date'})\n",
    "\n",
    "#Tạo một time_series bao gồm khoảng ngày tính toán itd (tính thừa 1 ngày để trừ dần đi)\n",
    "time_series_list = []\n",
    "for day in date_series['date'].iloc[:1].tolist():\n",
    "    time_series_list.extend(pd.date_range(start=f'{day} 09:00:00', end=f'{day} 11:25:00', freq='5T'))\n",
    "    time_series_list.extend(pd.date_range(start=f'{day} 13:00:00', end=f'{day} 15:00:00', freq='5T'))\n",
    "time_series = pd.DataFrame(time_series_list).rename(columns={0:'date'})"
   ]
  },
  {
   "cell_type": "code",
   "execution_count": 277,
   "metadata": {},
   "outputs": [],
   "source": [
    "#Đọc toàn bộ các file csv được xuất ra từ ami itd\n",
    "itd_item_dict = {}\n",
    "folder_path = '../ami_itd_data'\n",
    "for filename in os.listdir(folder_path):\n",
    "    if filename.endswith('.csv'):\n",
    "        key = os.path.splitext(filename)[0]\n",
    "        itd_item_dict[key] = pd.read_csv(os.path.join(folder_path, filename)).sort_values('date', ascending=False).reset_index(drop=True)\n",
    "\n",
    "#Lấy thời gian hiện tại của dữ liệu được xuất ra\n",
    "current_time = pd.to_datetime(itd_item_dict['VNINDEX']['date'].iloc[0], format='%y%m%d %H%M%S')\n",
    "\n",
    "#Điều chỉnh lại timeseries cho khớp với khung thời gian dữ liệu, bỏ đi các hàng chưa có dữ liệu\n",
    "time_series = time_series.loc[time_series['date'] <= current_time].sort_values('date', ascending=False).reset_index(drop=True)\n",
    "\n",
    "for item, df in itd_item_dict.items():\n",
    "    \n",
    "    df['date'] = pd.to_datetime(df['date'].astype(str), format='%y%m%d %H%M%S')\n",
    "\n",
    "    #Fill dữ liệu vào các khoảng thời gian trống\n",
    "    df = time_series.merge(df, on='date', how='left').sort_values('date', ascending=False)\n",
    "    df[['open','high','low','close']] = df[['open','high','low','close']].fillna(method='bfill')\n",
    "    df['volume'] = df['volume'].fillna(0)\n",
    "    df['stock'] = item\n",
    "\n",
    "\n",
    "    itd_item_dict[item] = df\n",
    "\n",
    "#Tạo bảng tổng hợp tất cả các item\n",
    "itd_item_df = pd.DataFrame(list(itd_item_dict.keys())).rename(columns={0:'item'})\n",
    "itd_item_df['len'] = itd_item_df['item'].apply(lambda x: len(x))\n",
    "itd_item_df['last_2chars'] = itd_item_df['item'].str[-2:]\n",
    "itd_item_df['third_last_char'] = itd_item_df['item'].str[-3:-2]\n",
    "itd_item_df['first_4chars'] = itd_item_df['item'].str[:4]\n",
    "\n",
    "#Lọc ra danh sách tên các cổ phiếu và index\n",
    "stock_name_df = itd_item_df[itd_item_df['len']==3].reset_index(drop=True).drop(['len','last_2chars','third_last_char','first_4chars'], axis=1)\n",
    "index_name_df = itd_item_df[(itd_item_df['len']>3) & (itd_item_df['len']!=6) & (itd_item_df['len']<10) & (itd_item_df['item']!='0001')]\\\n",
    "                .reset_index(drop=True).drop(['len','last_2chars','third_last_char','first_4chars'], axis=1)\n",
    "\n",
    "itd_stock_dict = {k:v for k,v in itd_item_dict.items() if k in stock_name_df['item'].tolist()}\n",
    "itd_index_dict = {k:v.rename(columns={'option':'value'})\n",
    "                for k,v in itd_item_dict.items() if k in index_name_df['item'].tolist()}"
   ]
  },
  {
   "cell_type": "code",
   "execution_count": 278,
   "metadata": {},
   "outputs": [],
   "source": [
    "def calculate_time_percent(time):\n",
    "    start_time_am = dt.time(9, 00)\n",
    "    end_time_am = dt.time(11, 30)\n",
    "    start_time_pm = dt.time(13, 00)\n",
    "    end_time_pm = dt.time(15, 00)\n",
    "\n",
    "    def time_difference_in_minutes(time1, time2):\n",
    "        delta1 = dt.timedelta(hours=time1.hour, minutes=time1.minute, seconds=time1.second)\n",
    "        delta2 = dt.timedelta(hours=time2.hour, minutes=time2.minute, seconds=time2.second)\n",
    "        diff = delta2 - delta1\n",
    "        return diff.seconds // 60\n",
    "\n",
    "    time = (time + timedelta(minutes=5)).time()\n",
    "    full_time_range = time_difference_in_minutes(start_time_am, end_time_am) + time_difference_in_minutes(start_time_pm, end_time_pm)\n",
    "\n",
    "    if time <= end_time_am:\n",
    "        time_range = time_difference_in_minutes(start_time_am, time)\n",
    "    elif time >= start_time_pm:\n",
    "        time_range = time_difference_in_minutes(start_time_am, time) - time_difference_in_minutes(end_time_am, start_time_pm)\n",
    "\n",
    "    return time_range/full_time_range\n",
    "\n",
    "#Điều chỉnh lại time_series bỏ đi các hàng thời gian chưa có dữ liệu\n",
    "time_series = time_series.loc[time_series['date'] <= current_time].sort_values('date', ascending=False).reset_index(drop=True)\n",
    "\n",
    "#Tính thêm time percent\n",
    "time_percent = time_series.copy()\n",
    "time_percent['percent'] = time_percent['date'].apply(calculate_time_percent)\n",
    "time_percent['percent'] = time_percent['percent'].apply(lambda x: x if x < 1 else 1)\n",
    "current_time_percent = time_percent['percent'].iloc[0]"
   ]
  },
  {
   "cell_type": "markdown",
   "metadata": {},
   "source": [
    "#### Đường trung bình"
   ]
  },
  {
   "cell_type": "code",
   "execution_count": 279,
   "metadata": {},
   "outputs": [],
   "source": [
    "#Tính toán các đường trung bình và các đường MA\n",
    "eod_stock_dict = {k: v.sort_values(by=['date'], ascending=True).reset_index(drop=True) for k, v in eod_stock_dict.items()}\n",
    "\n",
    "eod_stock_dict = {\n",
    "    key: df.assign(\n",
    "        high5=df['high'].rolling(window=5, min_periods=1).max(),\n",
    "        low5=df['low'].rolling(window=5, min_periods=1).min(),\n",
    "        high20=df['high'].rolling(window=20, min_periods=1).max(),\n",
    "        low20=df['low'].rolling(window=20, min_periods=1).min(),\n",
    "        high60=df['high'].rolling(window=60, min_periods=1).max(),\n",
    "        low60=df['low'].rolling(window=60, min_periods=1).min(),\n",
    "        high120=df['high'].rolling(window=120, min_periods=1).max(),\n",
    "        low120=df['low'].rolling(window=120, min_periods=1).min(),\n",
    "        high240=df['high'].rolling(window=240, min_periods=1).max(),\n",
    "        low240=df['low'].rolling(window=240, min_periods=1).min(),\n",
    "        high480=df['high'].rolling(window=480, min_periods=1).max(),\n",
    "        low480=df['low'].rolling(window=480, min_periods=1).min(),\n",
    "\n",
    "        ma5_V=df['volume'].rolling(window=5, min_periods=1).mean().shift(1),\n",
    "        ma20_V=df['volume'].rolling(window=20, min_periods=1).mean().shift(1),\n",
    "        ma60_V=df['volume'].rolling(window=60, min_periods=1).mean().shift(1),\n",
    "        ma120_V=df['volume'].rolling(window=120, min_periods=1).mean().shift(1),\n",
    "\n",
    "        ma5=df['close'].rolling(window=5, min_periods=1).mean(),\n",
    "        ma20=df['close'].rolling(window=20, min_periods=1).mean(),\n",
    "        ma60=df['close'].rolling(window=60, min_periods=1).mean(),\n",
    "        ma120=df['close'].rolling(window=120, min_periods=1).mean(),\n",
    "        ma240=df['close'].rolling(window=240, min_periods=1).mean(),\n",
    "        ma480=df['close'].rolling(window=480, min_periods=1).mean(),\n",
    "    )\n",
    "    for key, df in eod_stock_dict.items()\n",
    "}\n",
    "\n",
    "eod_stock_dict = {\n",
    "    key: df.assign(\n",
    "        trend_5p=(df['close'] > ((df['high5'] + df['low5'])/2).shift(1)).astype(int),\n",
    "        trend_20p=(df['close'] > ((df['high20'] + df['low20'])/2).shift(1)).astype(int),\n",
    "        trend_60p=(df['close'] > ((df['high60'] + df['low60'])/2).shift(1)).astype(int),\n",
    "        trend_120p=(df['close'] > ((df['high120'] + df['low120'])/2).shift(1)).astype(int),\n",
    "        trend_240p=(df['close'] > ((df['high240'] + df['low240'])/2).shift(1)).astype(int),\n",
    "        trend_480p=(df['close'] > ((df['high480'] + df['low480'])/2).shift(1)).astype(int)\n",
    "    )\n",
    "    for key, df in eod_stock_dict.items()\n",
    "}\n",
    "eod_stock_dict = {k: v.sort_values(by=['date'], ascending=False).reset_index(drop=True) for k, v in eod_stock_dict.items()}"
   ]
  },
  {
   "cell_type": "code",
   "execution_count": 280,
   "metadata": {},
   "outputs": [],
   "source": [
    "#Gán các đường trung bình và MA sang bảng dữ liệu ITD\n",
    "for stock, df in itd_stock_dict.items():\n",
    "    temp_data = eod_stock_dict[stock][['high5', 'low5', 'high20', 'low20', 'high60', 'low60',\n",
    "                                       'high120','low120', 'high240', 'low240', 'high480', 'low480']].iloc[0]\n",
    "    itd_stock_dict[stock] = df.assign(**temp_data)\n",
    "\n",
    "\n",
    "itd_stock_dict = {k: v.sort_values(by=['date'], ascending=True).reset_index(drop=True) for k, v in itd_stock_dict.items()}\n",
    "itd_stock_dict = {\n",
    "    key: df.assign(\n",
    "        trend_5p=(df['close'] > ((df['high5'] + df['low5'])/2).shift(1)).astype(int),\n",
    "        trend_20p=(df['close'] > ((df['high20'] + df['low20'])/2).shift(1)).astype(int),\n",
    "        trend_60p=(df['close'] > ((df['high60'] + df['low60'])/2).shift(1)).astype(int),\n",
    "        trend_120p=(df['close'] > ((df['high120'] + df['low120'])/2).shift(1)).astype(int),\n",
    "        trend_240p=(df['close'] > ((df['high240'] + df['low240'])/2).shift(1)).astype(int),\n",
    "        trend_480p=(df['close'] > ((df['high480'] + df['low480'])/2).shift(1)).astype(int)\n",
    "    )\n",
    "    for key, df in itd_stock_dict.items()\n",
    "}\n",
    "itd_stock_dict = {k: v.sort_values(by=['date'], ascending=False).reset_index(drop=True) for k, v in itd_stock_dict.items()}"
   ]
  },
  {
   "cell_type": "code",
   "execution_count": 281,
   "metadata": {},
   "outputs": [],
   "source": [
    "#Xoá các cổ phiếu chưa có giao dịch trong ngày\n",
    "delete_stock = []\n",
    "for stock, df in eod_stock_dict.items():\n",
    "    if date_series['date'].iloc[0] != df['date'].iloc[0]:\n",
    "        delete_stock.append(stock)\n",
    "for stock in delete_stock:\n",
    "    # itd_stock_dict.pop(stock)\n",
    "    eod_stock_dict.pop(stock)\n",
    "\n",
    "#Xoá các cổ phiếu có giá bị lỗi bằng 0\n",
    "delete_stock = []\n",
    "for stock, df in eod_stock_dict.items():\n",
    "    if df['close'].min() == 0:\n",
    "        delete_stock.append(stock)\n",
    "for stock in delete_stock:\n",
    "    itd_stock_dict.pop(stock)\n",
    "    eod_stock_dict.pop(stock)\n",
    "\n",
    "#Tính hệ số thanh khoản và đổi lại cap của cổ phiếu thành cap trung bình trong 20 phiên\n",
    "for df in eod_stock_dict.values():\n",
    "    df['liquid_ratio'] = df['volume'] / (df['ma5_V'])\n",
    "    df['liquid_ratio'].iloc[0] = df['volume'].iloc[0] / ((df['ma5_V']).iloc[0]*current_time_percent)\n",
    "    df['cap'] = df['cap'][::-1].rolling(window=20).mean()[::-1]"
   ]
  },
  {
   "cell_type": "markdown",
   "metadata": {},
   "source": [
    "#### Phân nhóm cổ phiếu"
   ]
  },
  {
   "cell_type": "code",
   "execution_count": 282,
   "metadata": {},
   "outputs": [],
   "source": [
    "stock_classification = pd.read_excel('data/t2m_classification.xlsx')\n",
    "stock_classification = stock_classification[stock_classification['stock'].isin(list(eod_stock_dict.keys()))]\n",
    "\n",
    "#Tạo ngày đầu tiên của tháng hiện tại\n",
    "first_day_of_month = date_series[date_series['date'] > pd.Timestamp(df['date'].iloc[0].year, df['date'].iloc[0].month, 1)]['date'].iloc[-1]\n",
    "\n",
    "#Tạo các mảng dữ liệu vốn hoá và giá của phiên đầu tiên hàng tháng\n",
    "price_arr = []\n",
    "cap_arr = []\n",
    "for stock, df in eod_stock_dict.items():\n",
    "    price_arr.append(df[df['date'] == first_day_of_month]['close'].item())\n",
    "    cap_arr.append(df[df['date'] == first_day_of_month]['cap'].iloc[0].item())\n",
    "\n",
    "#Tạo bảng chia nhóm vốn hoá\n",
    "vonhoa_classification_df = stock_classification.copy()\n",
    "vonhoa_classification_df['price'] = price_arr\n",
    "vonhoa_classification_df['cap'] = cap_arr\n",
    "\n",
    "cap_coef = sum(cap_arr)/10000\n",
    "vonhoa_classification_df['marketcap_group'] = vonhoa_classification_df.apply(lambda x:\n",
    "    'small' if ((x['cap']>cap_coef) & (x['cap']<10*cap_coef)) | \n",
    "               ((x['cap']>=10*cap_coef) & (x['cap']<20*cap_coef) & (x['price']<10)) \n",
    "               else\n",
    "    ('mid' if ((x['cap']>=10*cap_coef) & (x['cap']<20*cap_coef) & (x['price']>=10)) | \n",
    "              ((x['cap']>=20*cap_coef) & (x['cap']<100*cap_coef))\n",
    "              else\n",
    "    ('large' if x['cap']>=100*cap_coef\n",
    "               else 'penny'\n",
    ")), axis=1)\n",
    "\n",
    "stock_classification = pd.concat([stock_classification, vonhoa_classification_df['marketcap_group']], axis=1)"
   ]
  },
  {
   "cell_type": "code",
   "execution_count": 283,
   "metadata": {},
   "outputs": [],
   "source": [
    "eod_all_stock = {}\n",
    "eod_all_stock['all_stock'] = {key: value for key, value in eod_stock_dict.items()}\n",
    "\n",
    "eod_industry_name = {}\n",
    "for name in np.sort(stock_classification['industry_name'].unique()):\n",
    "    eod_industry_name[name] = {key: value for key, value in eod_stock_dict.items() if key in stock_classification[stock_classification['industry_name'] == name]['stock'].to_list()}\n",
    "\n",
    "eod_industry_perform = {}\n",
    "for name in np.sort(stock_classification['industry_perform'].unique()):\n",
    "    eod_industry_perform[name] = {key: value for key, value in eod_stock_dict.items() if key in stock_classification[stock_classification['industry_perform'] == name]['stock'].to_list()}\n",
    "\n",
    "eod_marketcap_group = {}\n",
    "for name in ['large', 'mid', 'small', 'penny']:\n",
    "    eod_marketcap_group[name] = {key: value for key, value in eod_stock_dict.items() if key in stock_classification[stock_classification['marketcap_group'] == name]['stock'].to_list()}"
   ]
  },
  {
   "cell_type": "code",
   "execution_count": 284,
   "metadata": {},
   "outputs": [],
   "source": [
    "itd_all_stock = {}\n",
    "itd_all_stock['all_stock'] = {key: value for key, value in itd_stock_dict.items()}\n",
    "\n",
    "itd_industry_name = {}\n",
    "for name in np.sort(stock_classification['industry_name'].unique()):\n",
    "    itd_industry_name[name] = {key: value for key, value in itd_stock_dict.items() if key in stock_classification[stock_classification['industry_name'] == name]['stock'].to_list()}\n",
    "\n",
    "itd_industry_perform = {}\n",
    "for name in np.sort(stock_classification['industry_perform'].unique()):\n",
    "    itd_industry_perform[name] = {key: value for key, value in itd_stock_dict.items() if key in stock_classification[stock_classification['industry_perform'] == name]['stock'].to_list()}\n",
    "\n",
    "itd_marketcap_group = {}\n",
    "for name in ['large', 'mid', 'small', 'penny']:\n",
    "    itd_marketcap_group[name] = {key: value for key, value in itd_stock_dict.items() if key in stock_classification[stock_classification['marketcap_group'] == name]['stock'].to_list()}"
   ]
  },
  {
   "cell_type": "markdown",
   "metadata": {},
   "source": [
    "#### Biểu đồ cấu trúc sóng"
   ]
  },
  {
   "cell_type": "code",
   "execution_count": 285,
   "metadata": {},
   "outputs": [],
   "source": [
    "def transform_ms(stock_group, time_interval):\n",
    "    stock_dict = copy.deepcopy(stock_group)\n",
    "\n",
    "    temp_time_series = copy.deepcopy(date_series) if time_interval == 'eod' else copy.deepcopy(time_series)\n",
    "\n",
    "    for group_name in stock_dict.keys():\n",
    "\n",
    "        #Tạo dict chứa các cổ phiếu thuộc cùng nhóm\n",
    "        trend_dict = {'trend_5p': None, 'trend_20p': None,'trend_60p': None,'trend_120p': None,'trend_240p': None, 'trend_480p': None}\n",
    "        for trend in trend_dict.keys():\n",
    "            trend_dict[trend] = pd.DataFrame(temp_time_series['date'].tolist(), columns=['date'])\n",
    "            for stock in stock_dict[group_name].keys():\n",
    "                trend_dict[trend][stock] = stock_dict[group_name][stock][trend]\n",
    "            trend_dict[trend].fillna(value=0, inplace=True)\n",
    "            trend_dict[trend]['sum'] = trend_dict[trend].iloc[:, 1:len(stock_dict[group_name])+1].apply(sum, axis=1)\n",
    "            trend_dict[trend]['percent'] = trend_dict[trend]['sum'] / len(stock_dict[group_name])\n",
    "\n",
    "        #Tạo bảng dữ liệu theo ngày\n",
    "        stock_dict[group_name] = pd.DataFrame(temp_time_series['date'].tolist(), columns=['date']).sort_values('date', ascending=False)\n",
    "        for trend in trend_dict.keys():\n",
    "            stock_dict[group_name][trend] = trend_dict[trend]['percent']\n",
    "        \n",
    "        if time_interval == 'eod':\n",
    "            stock_dict[group_name] = stock_dict[group_name].iloc[:60]\n",
    "        elif time_interval == 'itd':\n",
    "            stock_dict[group_name] = stock_dict[group_name].iloc[:-3]\n",
    "\n",
    "    return stock_dict"
   ]
  },
  {
   "cell_type": "code",
   "execution_count": 286,
   "metadata": {},
   "outputs": [],
   "source": [
    "eod_all_stock_ms = transform_ms(eod_all_stock, 'eod')\n",
    "eod_industry_name_ms = transform_ms(eod_industry_name, 'eod')\n",
    "eod_industry_perform_ms = transform_ms(eod_industry_perform, 'eod')\n",
    "eod_marketcap_group_ms = transform_ms(eod_marketcap_group, 'eod')"
   ]
  },
  {
   "cell_type": "code",
   "execution_count": 287,
   "metadata": {},
   "outputs": [],
   "source": [
    "itd_all_stock_ms = transform_ms(itd_all_stock, 'itd')\n",
    "itd_industry_name_ms = transform_ms(itd_industry_name, 'itd')\n",
    "itd_industry_perform_ms = transform_ms(itd_industry_perform, 'itd')\n",
    "itd_marketcap_group_ms = transform_ms(itd_marketcap_group, 'itd')"
   ]
  },
  {
   "cell_type": "markdown",
   "metadata": {},
   "source": [
    "#### Điểm dòng tiền từng cổ phiếu"
   ]
  },
  {
   "cell_type": "markdown",
   "metadata": {},
   "source": [
    "- Điểm dòng tiền EOD"
   ]
  },
  {
   "cell_type": "code",
   "execution_count": 288,
   "metadata": {},
   "outputs": [],
   "source": [
    "eod_stock_dict = {k: v.iloc[:60].reset_index(drop=True) for k, v in eod_stock_dict.items()}\n",
    "date_series = date_series.iloc[:60]"
   ]
  },
  {
   "cell_type": "code",
   "execution_count": 289,
   "metadata": {},
   "outputs": [],
   "source": [
    "def score_calculation(df):\n",
    "    try:\n",
    "        result = (((df['close'] - df['low']) - (df['high'] - df['close'])) / (df['high'] - df['low']) *\n",
    "                  abs((df['close'] - df['close_prev'])) / df['close_prev'] *\n",
    "                  (df['volume']*df['close']) / (df['ma5_prev'] * df['ma5_V'])) * 100 \\\n",
    "                  + ((df['volume']*df['close']) / (df['ma5_prev'] * df['ma5_V']))/100\n",
    "        result.fillna(0, inplace=True)\n",
    "        return result\n",
    "    except ZeroDivisionError:\n",
    "        # return 0\n",
    "        return ((df['volume']*df['close']) / (df['ma5_prev'] * df['ma5_V']))/100"
   ]
  },
  {
   "cell_type": "code",
   "execution_count": 290,
   "metadata": {},
   "outputs": [],
   "source": [
    "#Tính toán các cột cần thiết để lọc danh sách cổ phiếu dòng tiền\n",
    "raw_eod_score_dict = {}\n",
    "for stock in eod_stock_dict.keys():\n",
    "    raw_eod_score_dict[stock] = eod_stock_dict[stock]\n",
    "    [['stock', 'date', 'high', 'low', 'close', 'volume','liquid_ratio','cap', 'ma5_V', 'ma20_V','ma60_V','ma120_V','ma5']]\n",
    "    \n",
    "    raw_eod_score_dict[stock]['ma5_prev'] = raw_eod_score_dict[stock]['ma5'].shift(-1)\n",
    "    raw_eod_score_dict[stock]['close_prev'] = raw_eod_score_dict[stock]['close'].shift(-1)\n",
    "\n",
    "    raw_eod_score_dict[stock]['raw_score'] = score_calculation(raw_eod_score_dict[stock])\n",
    "    raw_eod_score_dict[stock]['raw_score'].iloc[0] = raw_eod_score_dict[stock]['raw_score'].iloc[0].item()/current_time_percent\n",
    "\n",
    "    raw_eod_score_dict[stock]['highest_price'] = raw_eod_score_dict[stock]['close'][::-1].rolling(window=40, min_periods=1).max()[::-1]\n",
    "    raw_eod_score_dict[stock]['lowest_volume20'] = raw_eod_score_dict[stock]['volume'][::-1].rolling(window=20, min_periods=1).min().shift(1)[::-1]\n",
    "    raw_eod_score_dict[stock]['lowest_volume5'] = raw_eod_score_dict[stock]['volume'][::-1].rolling(window=5, min_periods=1).min().shift(1)[::-1]\n",
    "\n",
    "#Lọc danh sách cổ phiếu dòng tiền\n",
    "eod_score_dict = {stock: df[['stock', 'date', 'close','low','high', 'volume', 'liquid_ratio', 'raw_score','cap']] \n",
    "                    for stock, df in raw_eod_score_dict.items() \n",
    "                    if all([\n",
    "                        df['ma5_V'][0] >= 50000,\n",
    "                        df['ma20_V'][0] >= 50000,\n",
    "                        df['ma60_V'][0] >= 50000,\n",
    "                        df['ma120_V'][0] >= 50000,\n",
    "                        df['lowest_volume20'][0] > 0,\n",
    "                        df['lowest_volume5'][0] >= 50000,\n",
    "                        df['close'][0] > df['highest_price'][0] * 0.382\n",
    "                    ])}\n",
    "\n",
    "stock_classification_filtered = stock_classification[stock_classification['stock'].isin(eod_score_dict.keys())].reset_index(drop=True)"
   ]
  },
  {
   "cell_type": "code",
   "execution_count": 291,
   "metadata": {},
   "outputs": [],
   "source": [
    "#Tính toán các điểm dòng tiền đóng góp từ nhóm ngành và nhóm vốn hoá\n",
    "def get_total_cap(df, group, eod_stock_dict):\n",
    "    unique_groups = df[group].unique()\n",
    "    total_cap_dict = {}\n",
    "    for unique_group in unique_groups:\n",
    "        total_cap = date_series.copy()\n",
    "        keys = df[df[group] == unique_group]['stock'].tolist()\n",
    "        for key in keys:\n",
    "            total_cap[key] = eod_stock_dict[key]['cap']\n",
    "        total_cap['total'] = total_cap.iloc[:, 1:].sum(axis=1)\n",
    "        total_cap_dict[unique_group] = total_cap['total']\n",
    "    return total_cap_dict\n",
    "\n",
    "total_cap_industry_dict = get_total_cap(stock_classification, 'industry_name', eod_stock_dict)\n",
    "total_cap_marketcap_dict = get_total_cap(stock_classification, 'marketcap_group', eod_stock_dict)\n",
    "\n",
    "for stock in eod_score_dict.keys():\n",
    "    eod_score_dict[stock]['total_cap_industry'] = total_cap_industry_dict[stock_classification[stock_classification['stock'] == stock]['industry_name'].item()]\n",
    "    eod_score_dict[stock]['total_cap_marketcap'] = total_cap_marketcap_dict[stock_classification[stock_classification['stock'] == stock]['marketcap_group'].item()]\n",
    "\n",
    "for stock in eod_score_dict.keys():\n",
    "    eod_score_dict[stock]['industry_cont'] = eod_score_dict[stock].apply(lambda x: x['raw_score']*x['cap']/x['total_cap_industry'], axis=1)\n",
    "    eod_score_dict[stock]['marketcap_cont'] = eod_score_dict[stock].apply(lambda x: x['raw_score']*x['cap']/x['total_cap_marketcap'], axis=1)"
   ]
  },
  {
   "cell_type": "code",
   "execution_count": 292,
   "metadata": {},
   "outputs": [],
   "source": [
    "eod_industry_score_dict = {}\n",
    "for nganh in stock_classification_filtered['industry_name'].unique():\n",
    "    industry_score = date_series.copy()\n",
    "    for stock in stock_classification_filtered[stock_classification_filtered['industry_name']==nganh]['stock'].tolist():\n",
    "        industry_score[stock] = eod_score_dict[stock]['industry_cont']\n",
    "    eod_industry_score_dict[nganh] = industry_score.iloc[:, 1:].sum(axis=1)\n",
    "\n",
    "eod_marketcap_score_dict = {}\n",
    "for nganh in stock_classification_filtered['marketcap_group'].unique():\n",
    "    marketcap_score = date_series.copy()\n",
    "    for stock in stock_classification_filtered[stock_classification_filtered['marketcap_group']==nganh]['stock'].tolist():\n",
    "        marketcap_score[stock] = eod_score_dict[stock]['marketcap_cont']\n",
    "    eod_marketcap_score_dict[nganh] = marketcap_score.iloc[:, 1:].sum(axis=1)\n",
    "\n",
    "for stock in eod_score_dict.keys():\n",
    "    nganh = stock_classification_filtered[stock_classification_filtered['stock']==stock]['industry_name'].item()\n",
    "    marketcap = stock_classification_filtered[stock_classification_filtered['stock']==stock]['marketcap_group'].item()\n",
    "\n",
    "    eod_score_dict[stock]['industry_score'] = eod_industry_score_dict[nganh]\n",
    "    eod_score_dict[stock]['marketcap_score'] = eod_marketcap_score_dict[marketcap]\n",
    "    eod_score_dict[stock]['t0_score'] = eod_score_dict[stock].apply(lambda x: x['raw_score']*0.7+x['industry_score']*0.2+x['marketcap_score']*0.1, axis=1)\n",
    "\n",
    "    eod_score_dict[stock].sort_values('date', ascending=True, inplace=True)\n",
    "    eod_score_dict[stock]['t5_score'] = eod_score_dict[stock]['t0_score'].rolling(window=5, min_periods=1).mean()\n",
    "    eod_score_dict[stock].sort_values('date', ascending=False, inplace=True)\n",
    "\n",
    "    eod_score_dict[stock]['industry_name'] = stock_classification_filtered[stock_classification_filtered['stock']==stock]['industry_name'].item()\n",
    "    eod_score_dict[stock]['industry_perform'] = stock_classification_filtered[stock_classification_filtered['stock']==stock]['industry_perform'].item()\n",
    "    eod_score_dict[stock]['stock_perform'] = stock_classification_filtered[stock_classification_filtered['stock'] == stock]['stock_perform'].item()\n",
    "    eod_score_dict[stock]['marketcap_group'] = stock_classification_filtered[stock_classification_filtered['stock']==stock]['marketcap_group'].item()\n",
    "    eod_score_dict[stock]['t2m_select'] = stock_classification_filtered[stock_classification_filtered['stock']==stock]['t2m_select'].item()"
   ]
  },
  {
   "cell_type": "code",
   "execution_count": 293,
   "metadata": {},
   "outputs": [],
   "source": [
    "group_score = date_series.copy()\n",
    "ranking_group = date_series.copy()\n",
    "\n",
    "#Xếp hạng T5\n",
    "for stock in eod_score_dict.keys():\n",
    "    group_score[stock] = eod_score_dict[stock]['t5_score']\n",
    "    group_score.fillna(0, inplace=True)\n",
    "    ranking_group[stock] = 0\n",
    "ranking_group = group_score.iloc[:,1:].rank(ascending=False, method='min', axis=1)\n",
    "\n",
    "for stock, df in eod_score_dict.items():\n",
    "    df['price_change'] = df['close'][::-1].pct_change()[::-1]\n",
    "    df['rank'] = ranking_group[stock]\n",
    "    df['rank_prev'] = df['rank'].shift(-1)\n",
    "    df['rank_change'] = df['rank_prev'] - df['rank']\n",
    "\n",
    "#Xếp hạng T0\n",
    "for stock in eod_score_dict.keys():\n",
    "    group_score[stock] = eod_score_dict[stock]['t0_score']\n",
    "    group_score.fillna(0, inplace=True)\n",
    "    ranking_group[stock] = 0\n",
    "ranking_group = group_score.iloc[:,1:].rank(ascending=False, method='min', axis=1)\n",
    "\n",
    "for stock, df in eod_score_dict.items():\n",
    "    df['rank_t0'] = ranking_group[stock]\n",
    "    df['rank_t0_prev'] = df['rank_t0'].shift(-1)\n",
    "\n",
    "#Check xem xếp hạng T0 nằm trong top 10% hay không\n",
    "for stock, df in eod_score_dict.items():\n",
    "    df['top_check'] = df['rank_t0'].apply(lambda x: 1 if x <= len(stock_classification_filtered)*0.1 else 0)\n",
    "    df['top_count'] = df['top_check'][::-1].rolling(window=20).sum()[::-1]\n",
    "\n",
    "# Tạo điểm số cuối cùng\n",
    "eod_score_dict = {k: v.drop(\n",
    "    columns=['raw_score', 'industry_cont', 'marketcap_cont', 'total_cap_industry', 'total_cap_marketcap',\n",
    "             'industry_score', 'marketcap_score', 'rank_t0_prev', 'rank_prev', 'top_check'])\n",
    "    for k, v in eod_score_dict.items()}"
   ]
  },
  {
   "cell_type": "code",
   "execution_count": 294,
   "metadata": {},
   "outputs": [],
   "source": [
    "#Tạo bảng tổng hợp điểm t0 của tất cả cổ phiếu\n",
    "eod_score_df = pd.DataFrame(stock_classification_filtered['stock'])\n",
    "\n",
    "score_list = []\n",
    "for stock, df in eod_score_dict.items():\n",
    "    score_list.append(df.iloc[0])\n",
    "\n",
    "eod_score_df = pd.DataFrame(score_list).sort_values('t0_score', ascending=False).reset_index(drop=True)"
   ]
  },
  {
   "cell_type": "markdown",
   "metadata": {},
   "source": [
    "- Điểm dòng tiền ITD"
   ]
  },
  {
   "cell_type": "code",
   "execution_count": 295,
   "metadata": {},
   "outputs": [],
   "source": [
    "# Giả định date_series và itd_stock_dict đã được định nghĩa\n",
    "hsx_itd_start = pd.Timestamp(date_series['date'].iloc[0].replace(hour=9, minute=15, second=0, microsecond=0))\n",
    "\n",
    "# Danh sách stock từ stock_classification_filtered và danh sách HSX stocks\n",
    "filtered_stocks = stock_classification_filtered['stock'].tolist()\n",
    "hsx_stocks = stock_classification[stock_classification['exchange'] == 'HSX']['stock'].tolist()\n",
    "\n",
    "# Lọc và cập nhật itd_score_dict trong một bước\n",
    "itd_score_dict = {\n",
    "    k: v.loc[v['date'] >= (hsx_itd_start if k in hsx_stocks else date_series['date'].iloc[0])]\n",
    "    for k, v in copy.deepcopy(itd_stock_dict).items() if k in filtered_stocks\n",
    "}\n",
    "\n",
    "for stock, df in itd_score_dict.items():\n",
    "\n",
    "    df['ma5_V'] = time_percent['percent']*(raw_eod_score_dict[stock]['ma5_V'].iloc[0])\n",
    "    df['ma5_prev'] = raw_eod_score_dict[stock]['ma5_prev'].iloc[0]\n",
    "    df['close_prev'] = raw_eod_score_dict[stock]['close_prev'].iloc[0]\n",
    "    df['cap'] = raw_eod_score_dict[stock]['cap'].iloc[0]\n",
    "\n",
    "    df['high'] = df['high'][::-1].cummax()[::-1]\n",
    "    df['low'] = df['low'][::-1].cummin()[::-1]\n",
    "    df['volume'] = df['volume'][::-1].cumsum()[::-1]\n",
    "    df['liquid_ratio'] = df['volume']/df['ma5_V']\n",
    "\n",
    "    df.loc[0, 'volume'] = raw_eod_score_dict[stock]['volume'].iloc[0]\n",
    "    df.loc[0, 'close'] = raw_eod_score_dict[stock]['close'].iloc[0]\n",
    "    df.loc[0, 'low'] = raw_eod_score_dict[stock]['low'].iloc[0]\n",
    "    df.loc[0, 'high'] = raw_eod_score_dict[stock]['high'].iloc[0]\n",
    "\n",
    "    df['raw_score'] = score_calculation(df)\n",
    "\n",
    "for stock in itd_score_dict.keys():\n",
    "    itd_score_dict[stock]['total_cap_industry'] = total_cap_industry_dict[stock_classification[stock_classification['stock'] == stock]['industry_name'].item()].iloc[0]\n",
    "    itd_score_dict[stock]['total_cap_marketcap'] = total_cap_marketcap_dict[stock_classification[stock_classification['stock'] == stock]['marketcap_group'].item()].iloc[0]\n",
    "\n",
    "for stock in itd_score_dict.keys():\n",
    "    itd_score_dict[stock]['industry_cont'] = itd_score_dict[stock].apply(lambda x: x['raw_score']*x['cap']/x['total_cap_industry'], axis=1)\n",
    "    itd_score_dict[stock]['marketcap_cont'] = itd_score_dict[stock].apply(lambda x: x['raw_score']*x['cap']/x['total_cap_marketcap'], axis=1)"
   ]
  },
  {
   "cell_type": "code",
   "execution_count": 296,
   "metadata": {},
   "outputs": [],
   "source": [
    "itd_industry_score_dict = {}\n",
    "for nganh in stock_classification_filtered['industry_name'].unique():\n",
    "    industry_score = time_series.copy()\n",
    "    for stock in stock_classification_filtered[stock_classification_filtered['industry_name']==nganh]['stock'].tolist():\n",
    "        industry_score[stock] = itd_score_dict[stock]['industry_cont']\n",
    "    itd_industry_score_dict[nganh] = industry_score.iloc[:, 1:].sum(axis=1)\n",
    "\n",
    "itd_marketcap_score_dict = {}\n",
    "for nganh in stock_classification_filtered['marketcap_group'].unique():\n",
    "    marketcap_score = time_series.copy()\n",
    "    for stock in stock_classification_filtered[stock_classification_filtered['marketcap_group']==nganh]['stock'].tolist():\n",
    "        marketcap_score[stock] = itd_score_dict[stock]['marketcap_cont']\n",
    "    itd_marketcap_score_dict[nganh] = marketcap_score.iloc[:, 1:].sum(axis=1)\n",
    "\n",
    "for stock in itd_score_dict.keys():\n",
    "    nganh = stock_classification_filtered[stock_classification_filtered['stock']==stock]['industry_name'].item()\n",
    "    marketcap = stock_classification_filtered[stock_classification_filtered['stock']==stock]['marketcap_group'].item()\n",
    "\n",
    "    itd_score_dict[stock]['industry_score'] = itd_industry_score_dict[nganh]\n",
    "    itd_score_dict[stock]['marketcap_score'] = itd_marketcap_score_dict[marketcap]\n",
    "    itd_score_dict[stock]['t0_score'] = itd_score_dict[stock].apply(lambda x: x['raw_score']*0.7+x['industry_score']*0.2+x['marketcap_score']*0.1, axis=1)\n",
    "    itd_score_dict[stock]['price_change'] = (itd_score_dict[stock]['close'] - eod_stock_dict[stock]['open'].iloc[0])/eod_stock_dict['AAA']['open'].iloc[0]\n",
    "\n",
    "    itd_score_dict[stock]['industry_name'] = stock_classification_filtered[stock_classification_filtered['stock']==stock]['industry_name'].item()\n",
    "    itd_score_dict[stock]['industry_perform'] = stock_classification_filtered[stock_classification_filtered['stock']==stock]['industry_perform'].item()\n",
    "    itd_score_dict[stock]['stock_perform'] = stock_classification_filtered[stock_classification_filtered['stock'] == stock]['stock_perform'].item()\n",
    "    itd_score_dict[stock]['marketcap_group'] = stock_classification_filtered[stock_classification_filtered['stock']==stock]['marketcap_group'].item()\n",
    "    itd_score_dict[stock]['t2m_select'] = stock_classification_filtered[stock_classification_filtered['stock']==stock]['t2m_select'].item()"
   ]
  },
  {
   "cell_type": "code",
   "execution_count": 297,
   "metadata": {},
   "outputs": [],
   "source": [
    "itd_score_dict = {k: v[['stock', 'date','close', 'volume','t0_score', 'liquid_ratio', 'industry_name', 'industry_perform', 'stock_perform','marketcap_group', 't2m_select', 'price_change']]\n",
    "                  for k, v in itd_score_dict.items()}"
   ]
  },
  {
   "cell_type": "markdown",
   "metadata": {},
   "source": [
    "#### Điểm dòng tiền nhóm cổ phiếu"
   ]
  },
  {
   "cell_type": "markdown",
   "metadata": {},
   "source": [
    "- Các hàm tính toán"
   ]
  },
  {
   "cell_type": "code",
   "execution_count": 298,
   "metadata": {},
   "outputs": [],
   "source": [
    "#Chỉnh sửa lại điểm dòng tiền t0 cho từng cổ phiếu với tác động của độ rộng từng nhóm\n",
    "def adjust_score_by_breath(t0_score, ratio_column):\n",
    "    adjusted_score = []\n",
    "    for score, ratio in zip(t0_score, ratio_column):\n",
    "        if score >= 0:\n",
    "            adjusted_score.append(score*ratio)\n",
    "        else:\n",
    "            adjusted_score.append(score*(1-ratio))\n",
    "    return adjusted_score\n",
    "\n",
    "#Hàm điều chỉnh điểm dòng tiền của cổ phiếu tránh sự đột biến khi đóng góp vào nhóm chung\n",
    "def adjust_score_for_smooth(row, column_name, max_percent, mark):\n",
    "    origin_score = row[column_name]\n",
    "    \n",
    "    if abs(origin_score) > row['total'] * max_percent:\n",
    "\n",
    "        sum_abs = row['total'] - abs(row[column_name])\n",
    "        fixed_score = sum_abs / (1 - max_percent) - sum_abs\n",
    "\n",
    "        if origin_score >= 0:\n",
    "            return fixed_score\n",
    "        else:\n",
    "            return -fixed_score\n",
    "    else:\n",
    "        mark[0] = 0\n",
    "        return origin_score\n",
    "\n",
    "#Áp dụng hàm điều chỉnh điểm phía trên vào các nhóm cổ phiếu, việc này lặp lại nhiều lần cho tới khi triệt tiêu sự đột biến\n",
    "def apply_smooth_score(group_stock, group_name, type_name):\n",
    "    if type_name == 'itd':\n",
    "        score_dict = copy.deepcopy(itd_score_dict)\n",
    "    elif type_name == 'eod':\n",
    "        score_dict = copy.deepcopy(eod_score_dict)\n",
    "\n",
    "    for key in group_stock.keys():\n",
    "\n",
    "        score_df = date_series.copy()\n",
    "        if group_name == 'all_stock':\n",
    "            temp_stock_list = stock_classification_filtered['stock']\n",
    "        else:\n",
    "            temp_stock_list = stock_classification_filtered[stock_classification_filtered[f'{group_name}']==key]['stock']\n",
    "\n",
    "        for stock in temp_stock_list:\n",
    "            score_df[stock] = score_dict[stock][f't0_{group_name}']\n",
    "\n",
    "        max_percent = max(0.1, min(5*(1/len(temp_stock_list)), 0.7))\n",
    "        score_df['total'] = score_df.iloc[:, 1:].abs().sum(axis=1)\n",
    "\n",
    "        mark = [1]\n",
    "        while True:\n",
    "            if mark[0] == 1:\n",
    "                for stock in temp_stock_list:\n",
    "                    score_df[stock] = score_df.iloc[:, 1:].apply(adjust_score_for_smooth, axis=1, args=(stock, max_percent, mark))\n",
    "            if mark[0] == 0:\n",
    "                break\n",
    "\n",
    "        for stock in temp_stock_list:\n",
    "            score_dict[stock][f't0_{group_name}'] = score_df[stock]"
   ]
  },
  {
   "cell_type": "markdown",
   "metadata": {},
   "source": [
    "- Dòng tiền vào nhóm cổ phiếu EOD"
   ]
  },
  {
   "cell_type": "code",
   "execution_count": 299,
   "metadata": {},
   "outputs": [],
   "source": [
    "#Tính độ rộng cho từng phiên phục vụ cho việc điều chỉnh điểm dòng tiền\n",
    "temp_df = date_series.copy()\n",
    "for stock, df in eod_score_dict.items():\n",
    "    temp_df[stock] = eod_score_dict[stock]['t0_score']\n",
    "temp_df.iloc[:,1:] = temp_df.iloc[:,1:].applymap(lambda x: 1 if x > 0 else 0)\n",
    "\n",
    "eod_market_breath = date_series.copy()\n",
    "\n",
    "industry_name_breadth_dict = {}\n",
    "for key in eod_industry_name.keys():\n",
    "    stock_list = stock_classification_filtered[stock_classification_filtered['industry_name']==key]['stock'].tolist()\n",
    "    industry_name_breadth_dict[key] = temp_df[['date'] + [columns for columns in stock_list]]\n",
    "    eod_market_breath[key] = industry_name_breadth_dict[key].iloc[:,1:].sum(axis=1)/len(stock_list)\n",
    "\n",
    "industry_perform_breadth_dict = {}\n",
    "for key in eod_industry_perform.keys():\n",
    "    stock_list = stock_classification_filtered[stock_classification_filtered['industry_perform']==key]['stock'].tolist()\n",
    "    industry_perform_breadth_dict[key] = temp_df[['date'] + [columns for columns in stock_list]]\n",
    "    eod_market_breath[key] = industry_perform_breadth_dict[key].iloc[:,1:].sum(axis=1)/len(stock_list)\n",
    "\n",
    "marketcap_group_breadth_dict = {}\n",
    "for key in eod_marketcap_group.keys():\n",
    "    stock_list = stock_classification_filtered[stock_classification_filtered['marketcap_group']==key]['stock'].tolist()\n",
    "    marketcap_group_breadth_dict[key] = temp_df[['date'] + [columns for columns in stock_list]]\n",
    "    eod_market_breath[key] = marketcap_group_breadth_dict[key].iloc[:,1:].sum(axis=1)/len(stock_list)\n",
    "\n",
    "all_stock_breadth_dict = {}\n",
    "for key in eod_all_stock.keys():\n",
    "    stock_list = stock_classification_filtered['stock'].tolist()\n",
    "    all_stock_breadth_dict[key] = temp_df[['date'] + [columns for columns in stock_list]]\n",
    "    eod_market_breath[key] = all_stock_breadth_dict[key].iloc[:,1:].sum(axis=1)/len(stock_list)\n",
    "\n",
    "#Chỉnh sửa lại điểm dòng tiền t0 cho từng cổ phiếu với tác động của độ rộng từng nhóm\n",
    "for stock, df in eod_score_dict.items():\n",
    "    name_of_industry_name = stock_classification_filtered[stock_classification_filtered['stock']==stock]['industry_name'].item()\n",
    "    name_of_industry_perform = stock_classification_filtered[stock_classification_filtered['stock']==stock]['industry_perform'].item()\n",
    "    name_of_marketcap_group = stock_classification_filtered[stock_classification_filtered['stock']==stock]['marketcap_group'].item()\n",
    "\n",
    "    df[f't0_industry_name'] = adjust_score_by_breath(df['t0_score'], eod_market_breath[name_of_industry_name])\n",
    "    df[f't0_industry_perform'] = adjust_score_by_breath(df['t0_score'], eod_market_breath[name_of_industry_perform])\n",
    "    df[f't0_marketcap_group'] = adjust_score_by_breath(df['t0_score'], eod_market_breath[name_of_marketcap_group])\n",
    "    df[f't0_all_stock'] = adjust_score_by_breath(df['t0_score'], eod_market_breath['all_stock'])\n",
    "\n",
    "#Loại bỏ các giá trị điểm đột biến của cá cổ phiếu khi đóng góp vào điểm dòng tiền ngành\n",
    "apply_smooth_score(eod_industry_name, 'industry_name', 'eod')\n",
    "apply_smooth_score(eod_industry_perform, 'industry_perform', 'eod')\n",
    "apply_smooth_score(eod_marketcap_group, 'marketcap_group', 'eod')\n",
    "apply_smooth_score(eod_all_stock, 'all_stock', 'eod')"
   ]
  },
  {
   "cell_type": "code",
   "execution_count": 300,
   "metadata": {},
   "outputs": [],
   "source": [
    "#Tạo bảng dữ liệu điểm dòng tiền cho các nhóm cổ phiếu\n",
    "eod_group_score_df = date_series.copy()\n",
    "\n",
    "#Thêm cột điểm dòng tiền toàn bộ cổ phiếu\n",
    "for nganh in eod_all_stock.keys():\n",
    "    score_df = date_series.copy()\n",
    "    for stock in stock_classification_filtered['stock']:\n",
    "        score_df[stock] = eod_score_dict[stock]['t0_all_stock']\n",
    "    score_df['total'] = score_df.iloc[:, 1:].mean(axis=1)\n",
    "    eod_group_score_df[nganh] = score_df['total']\n",
    "\n",
    "#Thêm các cột điểm dòng tiền ngành\n",
    "eod_industry_name_score_df = date_series.copy()\n",
    "for nganh in eod_industry_name.keys():\n",
    "    score_df = date_series.copy()\n",
    "    for stock in stock_classification_filtered[stock_classification_filtered['industry_name']==nganh]['stock']:\n",
    "        score_df[stock] = eod_score_dict[stock]['t0_industry_name']\n",
    "    score_df['total'] = score_df.iloc[:, 1:].mean(axis=1)\n",
    "    eod_group_score_df[nganh] = score_df['total']\n",
    "\n",
    "#Thêm các cột điểm dòng tiền nhóm hiệu suất\n",
    "eod_industry_perform_score_df = date_series.copy()\n",
    "for group in eod_industry_perform.keys():\n",
    "    score_df = date_series.copy()\n",
    "    for stock in stock_classification_filtered[stock_classification_filtered['industry_perform']==group]['stock']:\n",
    "        score_df[stock] = eod_score_dict[stock]['t0_industry_perform']\n",
    "    score_df['total'] = score_df.iloc[:, 1:].mean(axis=1)\n",
    "    eod_group_score_df[group] = score_df['total']\n",
    "\n",
    "#Thêm các cột điểm dòng tiền nhóm vốn hoá\n",
    "eod_marketcap_group_score_df = date_series.copy()\n",
    "for marketcap in eod_marketcap_group.keys():\n",
    "    score_df = date_series.copy()\n",
    "    for stock in stock_classification_filtered[stock_classification_filtered['marketcap_group']==marketcap]['stock']:\n",
    "        score_df[stock] = eod_score_dict[stock]['t0_marketcap_group']\n",
    "    score_df['total'] = score_df.iloc[:, 1:].mean(axis=1)\n",
    "    eod_group_score_df[marketcap] = score_df['total']\n",
    "\n",
    "eod_group_score_df['week'] = eod_group_score_df['date'].dt.strftime('%U-%Y')\n",
    "eod_group_score_df['month'] = eod_group_score_df['date'].dt.strftime('%m-%Y')\n",
    "eod_group_score_df['week_day'] = eod_group_score_df['date'].dt.day_name()\n",
    "eod_group_score_df['day_num'] = eod_group_score_df['date'].dt.day"
   ]
  },
  {
   "cell_type": "markdown",
   "metadata": {},
   "source": [
    "- Dòng tiền vào nhóm cổ phiếu ITD"
   ]
  },
  {
   "cell_type": "code",
   "execution_count": 301,
   "metadata": {},
   "outputs": [],
   "source": [
    "#Tính độ rộng cho từng phiên phục vụ cho việc điều chỉnh điểm dòng tiền\n",
    "temp_df = time_series.copy()\n",
    "for stock, df in itd_score_dict.items():\n",
    "    temp_df[stock] = itd_score_dict[stock]['t0_score']\n",
    "temp_df.iloc[:,1:] = temp_df.iloc[:,1:].applymap(lambda x: 1 if x > 0 else 0)\n",
    "\n",
    "itd_market_breath = time_series.copy()\n",
    "\n",
    "industry_name_breadth_dict = {}\n",
    "for key in itd_industry_name.keys():\n",
    "    stock_list = stock_classification_filtered[stock_classification_filtered['industry_name']==key]['stock'].tolist()\n",
    "    industry_name_breadth_dict[key] = temp_df[['date'] + [columns for columns in stock_list]]\n",
    "    itd_market_breath[key] = industry_name_breadth_dict[key].iloc[:,1:].sum(axis=1)/len(stock_list)\n",
    "\n",
    "industry_perform_breadth_dict = {}\n",
    "for key in itd_industry_perform.keys():\n",
    "    stock_list = stock_classification_filtered[stock_classification_filtered['industry_perform']==key]['stock'].tolist()\n",
    "    industry_perform_breadth_dict[key] = temp_df[['date'] + [columns for columns in stock_list]]\n",
    "    itd_market_breath[key] = industry_perform_breadth_dict[key].iloc[:,1:].sum(axis=1)/len(stock_list)\n",
    "\n",
    "marketcap_group_breadth_dict = {}\n",
    "for key in itd_marketcap_group.keys():\n",
    "    stock_list = stock_classification_filtered[stock_classification_filtered['marketcap_group']==key]['stock'].tolist()\n",
    "    marketcap_group_breadth_dict[key] = temp_df[['date'] + [columns for columns in stock_list]]\n",
    "    itd_market_breath[key] = marketcap_group_breadth_dict[key].iloc[:,1:].sum(axis=1)/len(stock_list)\n",
    "\n",
    "all_stock_breadth_dict = {}\n",
    "for key in itd_all_stock.keys():\n",
    "    stock_list = stock_classification_filtered['stock'].tolist()\n",
    "    all_stock_breadth_dict[key] = temp_df[['date'] + [columns for columns in stock_list]]\n",
    "    itd_market_breath[key] = all_stock_breadth_dict[key].iloc[:,1:].sum(axis=1)/len(stock_list)\n",
    "\n",
    "#Chỉnh sửa lại điểm dòng tiền t0 cho từng cổ phiếu với tác động của độ rộng từng nhóm\n",
    "\n",
    "for stock, df in itd_score_dict.items():\n",
    "\n",
    "    name_of_industry_name = stock_classification_filtered[stock_classification_filtered['stock']==stock]['industry_name'].item()\n",
    "    name_of_industry_perform = stock_classification_filtered[stock_classification_filtered['stock']==stock]['industry_perform'].item()\n",
    "    name_of_marketcap_group = stock_classification_filtered[stock_classification_filtered['stock']==stock]['marketcap_group'].item()\n",
    "\n",
    "    df['t0_industry_name'] = adjust_score_by_breath(df['t0_score'], itd_market_breath[name_of_industry_name])\n",
    "    df['t0_industry_perform'] = adjust_score_by_breath(df['t0_score'], itd_market_breath[name_of_industry_perform])\n",
    "    df['t0_marketcap_group'] = adjust_score_by_breath(df['t0_score'], itd_market_breath[name_of_marketcap_group])\n",
    "    df['t0_all_stock'] = adjust_score_by_breath(df['t0_score'], itd_market_breath['all_stock'])\n",
    "\n",
    "#Loại bỏ các giá trị điểm đột biến của cá cổ phiếu khi đóng góp vào điểm dòng tiền ngành\n",
    "apply_smooth_score(itd_industry_name, 'industry_name', 'itd')\n",
    "apply_smooth_score(itd_industry_perform, 'industry_perform', 'itd')\n",
    "apply_smooth_score(itd_marketcap_group, 'marketcap_group', 'itd')\n",
    "apply_smooth_score(itd_all_stock, 'all_stock', 'itd')"
   ]
  },
  {
   "cell_type": "code",
   "execution_count": 302,
   "metadata": {},
   "outputs": [],
   "source": [
    "#Tạo bảng dữ liệu điểm dòng tiền cho các nhóm cổ phiếu\n",
    "itd_group_score_df = time_series.copy()\n",
    "\n",
    "#Thêm cột điểm dòng tiền toàn bộ cổ phiếu\n",
    "for nganh in itd_all_stock.keys():\n",
    "    score_df = time_series.copy()\n",
    "    for stock in stock_classification_filtered['stock']:\n",
    "        score_df[stock] = itd_score_dict[stock]['t0_all_stock']\n",
    "    score_df['total'] = score_df.iloc[:, 1:].mean(axis=1)\n",
    "    itd_group_score_df[nganh] = score_df['total']\n",
    "\n",
    "#Thêm các cột điểm dòng tiền ngành\n",
    "itd_industry_name_score_df = time_series.copy()\n",
    "for nganh in itd_industry_name.keys():\n",
    "    score_df = time_series.copy()\n",
    "    for stock in stock_classification_filtered[stock_classification_filtered['industry_name']==nganh]['stock']:\n",
    "        score_df[stock] = itd_score_dict[stock]['t0_industry_name']\n",
    "    score_df['total'] = score_df.iloc[:, 1:].mean(axis=1)\n",
    "    itd_group_score_df[nganh] = score_df['total']\n",
    "\n",
    "#Thêm các cột điểm dòng tiền nhóm hiệu suất\n",
    "itd_industry_perform_score_df = time_series.copy()\n",
    "for group in itd_industry_perform.keys():\n",
    "    score_df = time_series.copy()\n",
    "    for stock in stock_classification_filtered[stock_classification_filtered['industry_perform']==group]['stock']:\n",
    "        score_df[stock] = itd_score_dict[stock]['t0_industry_perform']\n",
    "    score_df['total'] = score_df.iloc[:, 1:].mean(axis=1)\n",
    "    itd_group_score_df[group] = score_df['total']\n",
    "\n",
    "#Thêm các cột điểm dòng tiền nhóm vốn hoá\n",
    "itd_marketcap_group_score_df = time_series.copy()\n",
    "for marketcap in itd_marketcap_group.keys():\n",
    "    score_df = time_series.copy()\n",
    "    for stock in stock_classification_filtered[stock_classification_filtered['marketcap_group']==marketcap]['stock']:\n",
    "        score_df[stock] = itd_score_dict[stock]['t0_marketcap_group']\n",
    "    score_df['total'] = score_df.iloc[:, 1:].mean(axis=1)\n",
    "    itd_group_score_df[marketcap] = score_df['total']"
   ]
  },
  {
   "cell_type": "markdown",
   "metadata": {},
   "source": [
    "#### Hệ số thanh khoản cho nhóm cổ phiếu"
   ]
  },
  {
   "cell_type": "markdown",
   "metadata": {},
   "source": [
    "- Hệ số thanh khoản nhóm cổ phiếu EOD"
   ]
  },
  {
   "cell_type": "code",
   "execution_count": 303,
   "metadata": {},
   "outputs": [],
   "source": [
    "eod_group_liquidity_df = date_series.copy()\n",
    "\n",
    "for name in eod_all_stock.keys():\n",
    "    temp_volume_df = date_series.copy()\n",
    "    for stock, df in eod_all_stock[name].items():\n",
    "        temp_volume_df[stock] = df['volume']\n",
    "    temp_volume_df['volume'] = temp_volume_df.iloc[:, 1:].sum(axis=1)\n",
    "    temp_volume_df['ma5_V'] = temp_volume_df['volume'][::-1].shift(1).rolling(window=5).mean()[::-1]\n",
    "    temp_volume_df.loc[0, 'ma5_V'] = temp_volume_df['ma5_V'].iloc[0] * current_time_percent\n",
    "    temp_volume_df['ratio'] = temp_volume_df['volume'] / temp_volume_df['ma5_V']\n",
    "    eod_group_liquidity_df[name] = temp_volume_df['ratio']\n",
    "\n",
    "for name in eod_industry_name.keys():\n",
    "    temp_volume_df = date_series.copy()\n",
    "    for stock, df in eod_industry_name[name].items():\n",
    "        temp_volume_df[stock] = df['volume']\n",
    "    temp_volume_df['volume'] = temp_volume_df.iloc[:, 1:].sum(axis=1)\n",
    "    temp_volume_df['ma5_V'] = temp_volume_df['volume'][::-1].shift(1).rolling(window=5).mean()[::-1]\n",
    "    temp_volume_df.loc[0, 'ma5_V'] = temp_volume_df['ma5_V'].iloc[0] * current_time_percent\n",
    "    temp_volume_df['ratio'] = temp_volume_df['volume'] / temp_volume_df['ma5_V']\n",
    "    eod_group_liquidity_df[name] = temp_volume_df['ratio']\n",
    "\n",
    "for name in eod_industry_perform.keys():\n",
    "    temp_volume_df = date_series.copy()\n",
    "    for stock, df in eod_industry_perform[name].items():\n",
    "        temp_volume_df[stock] = df['volume']\n",
    "    temp_volume_df['volume'] = temp_volume_df.iloc[:, 1:].sum(axis=1)\n",
    "    temp_volume_df['ma5_V'] = temp_volume_df['volume'][::-1].shift(1).rolling(window=5).mean()[::-1]\n",
    "    temp_volume_df.loc[0, 'ma5_V'] = temp_volume_df['ma5_V'].iloc[0] * current_time_percent\n",
    "    temp_volume_df['ratio'] = temp_volume_df['volume'] / temp_volume_df['ma5_V']\n",
    "    eod_group_liquidity_df[name] = temp_volume_df['ratio']\n",
    "\n",
    "for name in eod_marketcap_group.keys():\n",
    "    temp_volume_df = date_series.copy()\n",
    "    for stock, df in eod_marketcap_group[name].items():\n",
    "        temp_volume_df[stock] = df['volume']\n",
    "    temp_volume_df['volume'] = temp_volume_df.iloc[:, 1:].sum(axis=1)\n",
    "    temp_volume_df['ma5_V'] = temp_volume_df['volume'][::-1].shift(1).rolling(window=5).mean()[::-1]\n",
    "    temp_volume_df.loc[0, 'ma5_V'] = temp_volume_df['ma5_V'].iloc[0] * current_time_percent\n",
    "    temp_volume_df['ratio'] = temp_volume_df['volume'] / temp_volume_df['ma5_V']\n",
    "    eod_group_liquidity_df[name] = temp_volume_df['ratio']"
   ]
  },
  {
   "cell_type": "markdown",
   "metadata": {},
   "source": [
    "- Hệ số thanh khoản nhóm cổ phiếu ITD"
   ]
  },
  {
   "cell_type": "code",
   "execution_count": 304,
   "metadata": {},
   "outputs": [],
   "source": [
    "itd_group_liquidity_df = time_series.copy().sort_values('date').reset_index(drop=True)\n",
    "\n",
    "#Thêm cột toàn bộ cổ phiếu\n",
    "for name in itd_all_stock.keys():\n",
    "    liquidity_t0 = time_percent[time_percent['date'] >= date_series['date'].iloc[0]].sort_values('date').reset_index(drop=True)\n",
    "    liquidity_ma5 = 0\n",
    "\n",
    "    for stock, df in itd_all_stock[name].items():\n",
    "        liquidity_t0[stock] = df[df['date'] >= date_series['date'].iloc[0]].sort_values('date')['volume'].reset_index(drop=True)\n",
    "        liquidity_ma5 += eod_stock_dict[stock].iloc[0]['ma5_V']\n",
    "    for column in liquidity_t0.columns[2:]:\n",
    "        liquidity_t0[column] = liquidity_t0[column].cumsum()\n",
    "\n",
    "    liquidity_t0['volume_t0'] = liquidity_t0.iloc[:,2:].sum(axis=1)\n",
    "    liquidity_t0['volume_ma5'] = liquidity_ma5 * liquidity_t0['percent']\n",
    "    liquidity_t0['ratio'] = liquidity_t0['volume_t0']/liquidity_t0['volume_ma5']\n",
    "    liquidity_t0.loc[0, 'ratio'] = 0 \n",
    "\n",
    "    itd_group_liquidity_df[name] = liquidity_t0['ratio']\n",
    "\n",
    "#Thêm các cột cho các ngành\n",
    "for name in itd_industry_name.keys():\n",
    "    liquidity_t0 = time_percent[time_percent['date'] >= date_series['date'].iloc[0]].sort_values('date').reset_index(drop=True)\n",
    "    liquidity_ma5 = 0\n",
    "\n",
    "    for stock, df in itd_industry_name[name].items():\n",
    "        liquidity_t0[stock] = df[df['date'] >= date_series['date'].iloc[0]].sort_values('date')['volume'].reset_index(drop=True)\n",
    "        liquidity_ma5 += eod_stock_dict[stock].iloc[0]['ma5_V']\n",
    "    for column in liquidity_t0.columns[2:]:\n",
    "        liquidity_t0[column] = liquidity_t0[column].cumsum()\n",
    "\n",
    "    liquidity_t0['volume_t0'] = liquidity_t0.iloc[:,2:].sum(axis=1)\n",
    "    liquidity_t0['volume_ma5'] = liquidity_ma5 * liquidity_t0['percent']\n",
    "    liquidity_t0['ratio'] = liquidity_t0['volume_t0']/liquidity_t0['volume_ma5']\n",
    "    liquidity_t0.loc[0, 'ratio'] = 0 \n",
    "\n",
    "    itd_group_liquidity_df[name] = liquidity_t0['ratio']\n",
    "\n",
    "#Thêm các cột cho các nhóm hiệu suất\n",
    "for name in itd_industry_perform.keys():\n",
    "    liquidity_t0 = time_percent[time_percent['date'] >= date_series['date'].iloc[0]].sort_values('date').reset_index(drop=True)\n",
    "    liquidity_ma5 = 0\n",
    "\n",
    "    for stock, df in itd_industry_perform[name].items():\n",
    "        liquidity_t0[stock] = df[df['date'] >= date_series['date'].iloc[0]].sort_values('date')['volume'].reset_index(drop=True)\n",
    "        liquidity_ma5 += eod_stock_dict[stock].iloc[0]['ma5_V']\n",
    "    for column in liquidity_t0.columns[2:]:\n",
    "        liquidity_t0[column] = liquidity_t0[column].cumsum()\n",
    "\n",
    "    liquidity_t0['volume_t0'] = liquidity_t0.iloc[:,2:].sum(axis=1)\n",
    "    liquidity_t0['volume_ma5'] = liquidity_ma5 * liquidity_t0['percent']\n",
    "    liquidity_t0['ratio'] = liquidity_t0['volume_t0']/liquidity_t0['volume_ma5']\n",
    "    liquidity_t0.loc[0, 'ratio'] = 0 \n",
    "\n",
    "    itd_group_liquidity_df[name] = liquidity_t0['ratio']\n",
    "\n",
    "#Thêm các cột cho các nhóm vốn hoá\n",
    "for name in itd_marketcap_group.keys():\n",
    "    liquidity_t0 = time_percent[time_percent['date'] >= date_series['date'].iloc[0]].sort_values('date').reset_index(drop=True)\n",
    "    liquidity_ma5 = 0\n",
    "\n",
    "    for stock, df in itd_marketcap_group[name].items():\n",
    "        liquidity_t0[stock] = df[df['date'] >= date_series['date'].iloc[0]].sort_values('date')['volume'].reset_index(drop=True)\n",
    "        liquidity_ma5 += eod_stock_dict[stock].iloc[0]['ma5_V']\n",
    "    for column in liquidity_t0.columns[2:]:\n",
    "        liquidity_t0[column] = liquidity_t0[column].cumsum()\n",
    "\n",
    "    liquidity_t0['volume_t0'] = liquidity_t0.iloc[:,2:].sum(axis=1)\n",
    "    liquidity_t0['volume_ma5'] = liquidity_ma5 * liquidity_t0['percent']\n",
    "    liquidity_t0['ratio'] = liquidity_t0['volume_t0']/liquidity_t0['volume_ma5']\n",
    "    liquidity_t0.loc[0, 'ratio'] = 0 \n",
    "\n",
    "    itd_group_liquidity_df[name] = liquidity_t0['ratio']"
   ]
  },
  {
   "cell_type": "markdown",
   "metadata": {},
   "source": [
    "#### Gộp thanh khoản và dòng tiền các nhóm cổ phiếu"
   ]
  },
  {
   "cell_type": "markdown",
   "metadata": {},
   "source": [
    "- Gộp bảng hệ số thanh khoản và dòng tiền của các nhóm cổ phiếu ITD"
   ]
  },
  {
   "cell_type": "code",
   "execution_count": 305,
   "metadata": {},
   "outputs": [],
   "source": [
    "#Gộp bảng hệ số thanh khoản và dòng tiền của các nhóm cổ phiếu ITD\n",
    "itd_score_liquidity_df = time_series.copy().sort_values('date').reset_index(drop=True)\n",
    "for column in itd_group_liquidity_df.columns[1:]:\n",
    "    itd_score_liquidity_df[f'liquid_{column}'] = itd_group_liquidity_df[column]\n",
    "for column in itd_group_score_df.columns[1:]:\n",
    "    itd_score_liquidity_df[f'score_{column}'] = itd_group_score_df[column]"
   ]
  },
  {
   "cell_type": "markdown",
   "metadata": {},
   "source": [
    "- Gộp bảng hệ số thanh khoản và dòng tiền của các nhóm cổ phiếu EOD"
   ]
  },
  {
   "cell_type": "code",
   "execution_count": 306,
   "metadata": {},
   "outputs": [],
   "source": [
    "#Gộp bảng hệ số thanh khoản và dòng tiền của các nhóm cổ phiếu EOD\n",
    "eod_score_liquidity_df = date_series.copy()\n",
    "for column in eod_group_liquidity_df.columns[1:]:\n",
    "    eod_score_liquidity_df[f'liquid_{column}'] = eod_group_liquidity_df[column]\n",
    "for column in eod_group_score_df.columns[1:]:\n",
    "    eod_score_liquidity_df[f'score_{column}'] = eod_group_score_df[column]"
   ]
  },
  {
   "cell_type": "markdown",
   "metadata": {},
   "source": [
    "#### Dòng tiền trong tuần và trong tháng"
   ]
  },
  {
   "cell_type": "code",
   "execution_count": 307,
   "metadata": {},
   "outputs": [],
   "source": [
    "def fill_month_flow(series):\n",
    "    new_series = series.copy()\n",
    "    for i in range(len(series) - 1):\n",
    "        if i == 0:\n",
    "            fill_value = 0\n",
    "            new_series[i] = fill_value\n",
    "        else:\n",
    "            fill_value = new_series[i-1]\n",
    "            if pd.isna(series[i]):\n",
    "                if not series[i:-1].isna().all():\n",
    "                    new_series[i] = fill_value\n",
    "    return new_series\n",
    "\n",
    "#Tạo list tên các group\n",
    "group_stock_list = eod_group_score_df.columns[1:-4]"
   ]
  },
  {
   "cell_type": "markdown",
   "metadata": {},
   "source": [
    "- Tính toán cho từng cổ phiếu"
   ]
  },
  {
   "cell_type": "code",
   "execution_count": 308,
   "metadata": {},
   "outputs": [],
   "source": [
    "stock_score_df = date_series.copy()\n",
    "all_stock_list = stock_classification_filtered['stock'].tolist()\n",
    "\n",
    "for stock, df in eod_score_dict.items():\n",
    "    stock_score_df[stock] = eod_score_dict[stock]['t0_score']\n",
    "\n",
    "stock_score_df['week'] = stock_score_df['date'].dt.strftime('%U-%Y')\n",
    "stock_score_df['month'] = stock_score_df['date'].dt.strftime('%m-%Y')\n",
    "stock_score_df['week_day'] = stock_score_df['date'].dt.day_name()\n",
    "stock_score_df['day_num'] = stock_score_df['date'].dt.day"
   ]
  },
  {
   "cell_type": "code",
   "execution_count": 309,
   "metadata": {},
   "outputs": [],
   "source": [
    "#Tạo bảng dữ liệu theo tuần\n",
    "week_day_index = {'Monday': 0,'Tuesday': 1,'Wednesday': 2,'Thursday': 3,'Friday': 4,'Saturday': 5,'Sunday': 6}\n",
    "week_score_dict = {}\n",
    "for i in range(2):\n",
    "    week_score_dict[f'week_{i+1}'] = stock_score_df[stock_score_df['week'] == stock_score_df['week'].unique()[i]].drop(columns=['date','week','month','day_num']).set_index('week_day')\n",
    "\n",
    "    temp_df = pd.DataFrame(['Monday','Tuesday','Wednesday','Friday','Thursday']).rename(columns={0:'week_day'}).set_index('week_day')\n",
    "    week_score_dict[f'week_{i+1}'] = pd.concat([temp_df, week_score_dict[f'week_{i+1}']], axis=1).reset_index()\n",
    "\n",
    "    columns_list = week_score_dict[f'week_{i+1}'].columns\n",
    "    week_score_dict[f'week_{i+1}']['id'] = f'w{i+1}'\n",
    "    \n",
    "    week_score_dict[f'week_{i+1}'] = week_score_dict[f'week_{i+1}'].melt(id_vars=['week_day', 'id'], value_vars=all_stock_list, var_name='stock', value_name='value')\n",
    "    week_score_dict[f'week_{i+1}'] = week_score_dict[f'week_{i+1}'].pivot_table(index=['week_day', 'stock'], columns='id', values='value', aggfunc='first').reset_index()\n",
    "\n",
    "#Bảng so sánh 2 tuần\n",
    "stock_score_week = week_score_dict['week_1'].merge(week_score_dict['week_2'], on=['week_day','stock'], how='outer')\n",
    "stock_score_week['day_index'] = stock_score_week['week_day'].map(week_day_index)\n",
    "stock_score_week = stock_score_week.sort_values('day_index')\n",
    "\n"
   ]
  },
  {
   "cell_type": "code",
   "execution_count": 310,
   "metadata": {},
   "outputs": [],
   "source": [
    "#Tạo bảng dữ liệu theo tháng\n",
    "month_score_dict = {}\n",
    "for i in range(2):\n",
    "    month_score_dict[f'month_{i+1}'] = stock_score_df[stock_score_df['month'] == stock_score_df['month'].unique()[i]].drop(columns=['date','week','month','week_day']).set_index('day_num')\n",
    "\n",
    "    temp_df = pd.DataFrame(list(range(0, 32))).rename(columns={0:'day_num'}).set_index('day_num')\n",
    "    month_score_dict[f'month_{i+1}'] = pd.concat([temp_df, month_score_dict[f'month_{i+1}']], axis=1).reset_index()\n",
    "    columns_list = month_score_dict[f'month_{i+1}'].columns\n",
    "\n",
    "\n",
    "    for column in columns_list[1:]: \n",
    "        month_score_dict[f'month_{i+1}'][column] = month_score_dict[f'month_{i+1}'][column].cumsum()\n",
    "        month_score_dict[f'month_{i+1}'][column].iloc[month_score_dict[f'month_{i+1}'][column].first_valid_index()-1] = 0\n",
    "        month_score_dict[f'month_{i+1}'][column] = fill_month_flow(month_score_dict[f'month_{i+1}'][column])\n",
    "\n",
    "    month_score_dict[f'month_{i+1}']['id'] = f'm{i+1}'\n",
    "    \n",
    "    month_score_dict[f'month_{i+1}'] = month_score_dict[f'month_{i+1}'].melt(id_vars=['day_num', 'id'], value_vars=all_stock_list, var_name='stock', value_name='value')\n",
    "    month_score_dict[f'month_{i+1}'] = month_score_dict[f'month_{i+1}'].pivot_table(index=['day_num', 'stock'], columns='id', values='value', aggfunc='first').reset_index()\n",
    "\n",
    "#Bảng so sánh các 2 tháng\n",
    "stock_score_month = month_score_dict['month_1'].merge(month_score_dict['month_2'], on=['day_num','stock'], how='outer')"
   ]
  },
  {
   "cell_type": "markdown",
   "metadata": {},
   "source": [
    "- Tính toán cho các nhóm cổ phiếu"
   ]
  },
  {
   "cell_type": "code",
   "execution_count": 311,
   "metadata": {},
   "outputs": [],
   "source": [
    "#Tạo bảng dữ liệu theo tuần\n",
    "week_day_index = {'Monday': 0,'Tuesday': 1,'Wednesday': 2,'Thursday': 3,'Friday': 4,'Saturday': 5,'Sunday': 6}\n",
    "week_score_dict = {}\n",
    "for i in range(2):\n",
    "    week_score_dict[f'week_{i+1}'] = eod_group_score_df[eod_group_score_df['week'] == eod_group_score_df['week'].unique()[i]].drop(columns=['date','week','month','day_num']).set_index('week_day')\n",
    "\n",
    "    temp_df = pd.DataFrame(['Monday','Tuesday','Wednesday','Friday','Thursday']).rename(columns={0:'week_day'}).set_index('week_day')\n",
    "    week_score_dict[f'week_{i+1}'] = pd.concat([temp_df, week_score_dict[f'week_{i+1}']], axis=1).reset_index()\n",
    "\n",
    "    columns_list = week_score_dict[f'week_{i+1}'].columns\n",
    "    week_score_dict[f'week_{i+1}']['id'] = f'w{i+1}'\n",
    "    \n",
    "    week_score_dict[f'week_{i+1}'] = week_score_dict[f'week_{i+1}'].melt(id_vars=['week_day', 'id'], value_vars=group_stock_list, var_name='group_name', value_name='value')\n",
    "    week_score_dict[f'week_{i+1}'] = week_score_dict[f'week_{i+1}'].pivot_table(index=['week_day', 'group_name'], columns='id', values='value', aggfunc='first').reset_index()\n",
    "\n",
    "#Bảng so sánh 2 tuần\n",
    "group_score_week = week_score_dict['week_1'].merge(week_score_dict['week_2'], on=['week_day','group_name'], how='outer')\n",
    "group_score_week['day_index'] = group_score_week['week_day'].map(week_day_index)\n",
    "group_score_week['group_name'] = group_score_week['group_name'].map(name_map_dict)\n",
    "group_score_week = group_score_week.sort_values('day_index')"
   ]
  },
  {
   "cell_type": "code",
   "execution_count": 312,
   "metadata": {},
   "outputs": [],
   "source": [
    "#Tạo bảng dữ liệu theo tháng\n",
    "month_score_dict = {}\n",
    "for i in range(2):\n",
    "    month_score_dict[f'month_{i+1}'] = eod_group_score_df[eod_group_score_df['month'] == eod_group_score_df['month'].unique()[i]].drop(columns=['date','week','month','week_day']).set_index('day_num')\n",
    "\n",
    "    temp_df = pd.DataFrame(list(range(0, 32))).rename(columns={0:'day_num'}).set_index('day_num')\n",
    "    month_score_dict[f'month_{i+1}'] = pd.concat([temp_df, month_score_dict[f'month_{i+1}']], axis=1).reset_index()\n",
    "    columns_list = month_score_dict[f'month_{i+1}'].columns\n",
    "\n",
    "\n",
    "    for column in columns_list[1:]: \n",
    "        month_score_dict[f'month_{i+1}'][column] = month_score_dict[f'month_{i+1}'][column].cumsum()\n",
    "        month_score_dict[f'month_{i+1}'][column].iloc[month_score_dict[f'month_{i+1}'][column].first_valid_index()-1] = 0\n",
    "        month_score_dict[f'month_{i+1}'][column] = fill_month_flow(month_score_dict[f'month_{i+1}'][column])\n",
    "\n",
    "    month_score_dict[f'month_{i+1}']['id'] = f'm{i+1}'\n",
    "    \n",
    "    month_score_dict[f'month_{i+1}'] = month_score_dict[f'month_{i+1}'].melt(id_vars=['day_num', 'id'], value_vars=group_stock_list, var_name='group_name', value_name='value')\n",
    "    month_score_dict[f'month_{i+1}'] = month_score_dict[f'month_{i+1}'].pivot_table(index=['day_num', 'group_name'], columns='id', values='value', aggfunc='first').reset_index()\n",
    "\n",
    "#Bảng so sánh các 2 tháng\n",
    "group_score_month = month_score_dict['month_1'].merge(month_score_dict['month_2'], on=['day_num','group_name'], how='outer')\n",
    "group_score_month['group_name'] = group_score_month['group_name'].map(name_map_dict)"
   ]
  },
  {
   "cell_type": "markdown",
   "metadata": {},
   "source": [
    "#### Xếp hạng các nhóm cổ phiếu"
   ]
  },
  {
   "cell_type": "code",
   "execution_count": 313,
   "metadata": {},
   "outputs": [],
   "source": [
    "#Tạo bảng xếp hạng cho các nhóm cổ phiếu\n",
    "def create_ranking_df(score_df):\n",
    "    socre_dict = {}\n",
    "    for group in score_df.columns[1:]:\n",
    "        socre_dict[group] = date_series.copy()\n",
    "        socre_dict[group]['t0_score'] = score_df[group]\n",
    "        socre_dict[group]['t5_score'] = socre_dict[group]['t0_score'][::-1].rolling(window=5).mean()[::-1]\n",
    "\n",
    "    ranking_score = date_series.copy()\n",
    "    for group in socre_dict.keys():\n",
    "        ranking_score[group] = socre_dict[group]['t5_score']\n",
    "        ranking_score.fillna(0,inplace=True)\n",
    "\n",
    "    ranking_df = date_series.copy()\n",
    "    for group in socre_dict.keys():\n",
    "        ranking_df[group] = 0\n",
    "\n",
    "    for i in range(len(date_series.copy())):\n",
    "        ranking_df.iloc[i, 1:] = ranking_score.iloc[i, 1:].rank(ascending=False, method='min')\n",
    "    \n",
    "    ranking_df = ranking_df.head(20)\n",
    "\n",
    "    return ranking_df\n",
    "\n",
    "industry_name_ranking = create_ranking_df(eod_group_score_df[['date',                                     \n",
    "        'ban_le', 'bao_hiem', 'bds', 'bds_kcn','chung_khoan', \n",
    "        'cong_nghe','cong_nghiep', 'dau_khi', 'det_may','dulich_dv',\n",
    "        'dv_hatang', 'hoa_chat', 'htd', 'khoang_san', 'ngan_hang','tai_chinh',\n",
    "        'thep', 'thuc_pham', 'thuy_san', 'van_tai', 'vlxd', 'xd','y_te']])\n",
    "industry_perform_ranking = create_ranking_df(eod_group_score_df[['date','A', 'B', 'C', 'D']])\n",
    "marketcap_group_ranking = create_ranking_df(eod_group_score_df[['date','large', 'mid', 'small', 'penny']])\n",
    "\n",
    "group_score_ranking = industry_name_ranking.merge(industry_perform_ranking, on='date', how='left').merge(marketcap_group_ranking, on='date', how='left')"
   ]
  },
  {
   "cell_type": "markdown",
   "metadata": {},
   "source": [
    "#### Chỉ số kĩ thuật"
   ]
  },
  {
   "cell_type": "code",
   "execution_count": 314,
   "metadata": {},
   "outputs": [],
   "source": [
    "# def find_peak_and_bottom(df):\n",
    "#     df_copy = df.copy()\n",
    "\n",
    "#     df_copy['close_p1'] = df_copy['close'].shift(-1)\n",
    "#     df_copy['close_p2'] = df_copy['close'].shift(-2)\n",
    "#     df_copy['close_f1'] = df_copy['close'].shift(1)\n",
    "#     df_copy['close_f2'] = df_copy['close'].shift(2)\n",
    "\n",
    "#     df_copy['high_p1'] = df_copy['high'].shift(-1)\n",
    "#     df_copy['high_p2'] = df_copy['high'].shift(-2)\n",
    "#     df_copy['high_f1'] = df_copy['high'].shift(1)\n",
    "#     df_copy['high_f2'] = df_copy['high'].shift(2)\n",
    "\n",
    "#     df_copy['low_p1'] = df_copy['low'].shift(-1)\n",
    "#     df_copy['low_p2'] = df_copy['low'].shift(-2)\n",
    "#     df_copy['low_f1'] = df_copy['low'].shift(1)\n",
    "#     df_copy['low_f2'] = df_copy['low'].shift(2)\n",
    "\n",
    "#     df_copy['peak'] = ((df_copy['high']>df_copy['close_p1']) & (df_copy['high']>df_copy['close_p2']) &\n",
    "#                         (df_copy['high']>df_copy['close_f1']) & (df_copy['high']>df_copy['close_f2']) &\n",
    "#                         (df_copy['high'] == df_copy[['high', 'high_p1', 'high_p2', 'high_f1', 'high_f2']].max(axis=1))).astype(int)\n",
    "\n",
    "#     df_copy['bottom'] = ((df_copy['low']<df_copy['close_p1']) & (df_copy['low']<df_copy['close_p2']) &\n",
    "#                         (df_copy['low']<df_copy['close_f2']) & (df_copy['low']<df_copy['close_f2']) &\n",
    "#                         (df_copy['low'] == df_copy[['low', 'low_p1', 'low_p2', 'low_f1', 'low_f2']].min(axis=1))).astype(int)\n",
    "\n",
    "#     return df_copy['peak'], df_copy['bottom']"
   ]
  },
  {
   "cell_type": "code",
   "execution_count": 315,
   "metadata": {},
   "outputs": [],
   "source": [
    "# def calculate_ta_df(price_df):\n",
    "#     ta_df = price_df[['stock','date','open','high','low','close','volume']]\n",
    "#     ta_df['month'] = ta_df['date'].dt.to_period('M').astype(str)\n",
    "#     ta_df['quarter'] = ta_df['date'].dt.to_period('Q').astype(str)\n",
    "#     ta_df['year'] = ta_df['date'].dt.to_period('Y').astype(str)\n",
    "#     return ta_df\n",
    "\n",
    "def calculate_ta_df(price_df):\n",
    "    ta_df = price_df[['stock', 'date', 'open', 'high', 'low', 'close', 'volume']].copy()\n",
    "    ta_df['month'] = ta_df['date'].dt.to_period('M')\n",
    "    ta_df['quarter'] = ta_df['date'].dt.to_period('Q')\n",
    "    ta_df['year'] = ta_df['date'].dt.to_period('Y')\n",
    "    return ta_df"
   ]
  },
  {
   "cell_type": "code",
   "execution_count": 316,
   "metadata": {},
   "outputs": [],
   "source": [
    "def calculate_candle_ta_df(ta_df,input_type):\n",
    "    candle_ta_df = calculate_ta_df(ta_df)\n",
    "    \n",
    "    candle_ta_df['month_bottom'] = candle_ta_df[candle_ta_df['month'] == candle_ta_df['month'].unique()[0]]['low'].min()\n",
    "    candle_ta_df['quarter_bottom'] = candle_ta_df[candle_ta_df['quarter'] == candle_ta_df['quarter'].unique()[0]]['low'].min()\n",
    "    candle_ta_df['year_bottom'] = candle_ta_df[candle_ta_df['year'] == candle_ta_df['year'].unique()[0]]['low'].min()\n",
    "\n",
    "    candle_ta_df['month_peak'] = candle_ta_df[candle_ta_df['month'] == candle_ta_df['month'].unique()[0]]['high'].max()\n",
    "    candle_ta_df['quarter_peak'] = candle_ta_df[candle_ta_df['quarter'] == candle_ta_df['quarter'].unique()[0]]['high'].max()\n",
    "    candle_ta_df['year_peak'] = candle_ta_df[candle_ta_df['year'] == candle_ta_df['year'].unique()[0]]['high'].max()\n",
    "\n",
    "    candle_ta_df['month_open'] = candle_ta_df[candle_ta_df['month'] == candle_ta_df['month'].unique()[0]]['open'].iloc[-1]\n",
    "    candle_ta_df['quarter_open'] = candle_ta_df[candle_ta_df['quarter'] == candle_ta_df['quarter'].unique()[0]]['open'].iloc[-1]\n",
    "    candle_ta_df['year_open'] = candle_ta_df[candle_ta_df['year'] == candle_ta_df['year'].unique()[0]]['open'].iloc[-1]\n",
    "\n",
    "    if input_type == 'stock':\n",
    "\n",
    "        candle_ta_df['from_month_peak'] = (candle_ta_df['close'] - candle_ta_df['month_peak'])/candle_ta_df['month_peak']\n",
    "        candle_ta_df['from_quarter_peak'] = (candle_ta_df['close'] - candle_ta_df['quarter_peak'])/candle_ta_df['quarter_peak']\n",
    "        candle_ta_df['from_year_peak'] = (candle_ta_df['close'] - candle_ta_df['year_peak'])/candle_ta_df['year_peak']\n",
    "\n",
    "        candle_ta_df['from_month_bottom'] = (candle_ta_df['close'] - candle_ta_df['month_bottom'])/candle_ta_df['month_bottom']\n",
    "        candle_ta_df['from_quarter_bottom'] = (candle_ta_df['close'] - candle_ta_df['quarter_bottom'])/candle_ta_df['quarter_bottom']\n",
    "        candle_ta_df['from_year_bottom'] = (candle_ta_df['close'] - candle_ta_df['year_bottom'])/candle_ta_df['year_bottom']\n",
    "\n",
    "        candle_ta_df['from_month_open'] = (candle_ta_df['close'] - candle_ta_df['month_open'])/candle_ta_df['month_open']\n",
    "        candle_ta_df['from_quarter_open'] = (candle_ta_df['close'] - candle_ta_df['quarter_open'])/candle_ta_df['quarter_open']\n",
    "        candle_ta_df['from_year_open'] = (candle_ta_df['close'] - candle_ta_df['year_open'])/candle_ta_df['year_open']\n",
    "\n",
    "    if input_type == 'index':\n",
    "\n",
    "        candle_ta_df['from_month_peak'] = (candle_ta_df['close'] - candle_ta_df['month_peak'])\n",
    "        candle_ta_df['from_quarter_peak'] = (candle_ta_df['close'] - candle_ta_df['quarter_peak'])\n",
    "        candle_ta_df['from_year_peak'] = (candle_ta_df['close'] - candle_ta_df['year_peak'])\n",
    "\n",
    "        candle_ta_df['from_month_bottom'] = (candle_ta_df['close'] - candle_ta_df['month_bottom'])\n",
    "        candle_ta_df['from_quarter_bottom'] = (candle_ta_df['close'] - candle_ta_df['quarter_bottom'])\n",
    "        candle_ta_df['from_year_bottom'] = (candle_ta_df['close'] - candle_ta_df['year_bottom'])\n",
    "\n",
    "        candle_ta_df['from_month_open'] = (candle_ta_df['close'] - candle_ta_df['month_open'])\n",
    "        candle_ta_df['from_quarter_open'] = (candle_ta_df['close'] - candle_ta_df['quarter_open'])\n",
    "        candle_ta_df['from_year_open'] = (candle_ta_df['close'] - candle_ta_df['year_open'])\n",
    "\n",
    "    return candle_ta_df"
   ]
  },
  {
   "cell_type": "code",
   "execution_count": 317,
   "metadata": {},
   "outputs": [],
   "source": [
    "def calculate_fibo_ta_df(ta_df, input_type):\n",
    "    fibo_ta_df = calculate_ta_df(ta_df)\n",
    "\n",
    "    fibo_ta_df['month_peak'] = fibo_ta_df[fibo_ta_df['month'].isin(fibo_ta_df['month'].unique()[:2].tolist())]['high'].max()\n",
    "    fibo_ta_df['quarter_peak'] = fibo_ta_df[fibo_ta_df['quarter'].isin(fibo_ta_df['quarter'].unique()[:2].tolist())]['high'].max()\n",
    "    fibo_ta_df['year_peak'] = fibo_ta_df[fibo_ta_df['year'].isin(fibo_ta_df['year'].unique()[:2].tolist())]['high'].max()\n",
    "\n",
    "    fibo_ta_df['month_bottom'] = fibo_ta_df[fibo_ta_df['month'].isin(fibo_ta_df['month'].unique()[:2].tolist())]['low'].min()\n",
    "    fibo_ta_df['quarter_bottom'] = fibo_ta_df[fibo_ta_df['quarter'].isin(fibo_ta_df['quarter'].unique()[:2].tolist())]['low'].min()\n",
    "    fibo_ta_df['year_bottom'] = fibo_ta_df[fibo_ta_df['year'].isin(fibo_ta_df['year'].unique()[:2].tolist())]['low'].min()\n",
    "        \n",
    "    fibo_ta_df['month_fibo_382'] = fibo_ta_df['month_peak'] - (fibo_ta_df['month_peak'] - fibo_ta_df['month_bottom'])*0.382\n",
    "    fibo_ta_df['month_fibo_500'] = fibo_ta_df['month_peak'] - (fibo_ta_df['month_peak'] - fibo_ta_df['month_bottom'])*0.5\n",
    "    fibo_ta_df['month_fibo_618'] = fibo_ta_df['month_peak'] - (fibo_ta_df['month_peak'] - fibo_ta_df['month_bottom'])*0.618\n",
    "\n",
    "    fibo_ta_df['quarter_fibo_382'] = fibo_ta_df['quarter_peak'] - (fibo_ta_df['quarter_peak'] - fibo_ta_df['quarter_bottom'])*0.382\n",
    "    fibo_ta_df['quarter_fibo_500'] = fibo_ta_df['quarter_peak'] - (fibo_ta_df['quarter_peak'] - fibo_ta_df['quarter_bottom'])*0.5\n",
    "    fibo_ta_df['quarter_fibo_618'] = fibo_ta_df['quarter_peak'] - (fibo_ta_df['quarter_peak'] - fibo_ta_df['quarter_bottom'])*0.618\n",
    "\n",
    "    fibo_ta_df['year_fibo_382'] = fibo_ta_df['year_peak'] - (fibo_ta_df['year_peak'] - fibo_ta_df['year_bottom'])*0.382\n",
    "    fibo_ta_df['year_fibo_500'] = fibo_ta_df['year_peak'] - (fibo_ta_df['year_peak'] - fibo_ta_df['year_bottom'])*0.5\n",
    "    fibo_ta_df['year_fibo_618'] = fibo_ta_df['year_peak'] - (fibo_ta_df['year_peak'] - fibo_ta_df['year_bottom'])*0.618\n",
    "\n",
    "    if input_type == 'stock':\n",
    "\n",
    "        fibo_ta_df['from_month_fibo_382'] = (fibo_ta_df['close'] - fibo_ta_df['month_fibo_382'])/abs(fibo_ta_df['month_fibo_382'])\n",
    "        fibo_ta_df['from_month_fibo_500'] = (fibo_ta_df['close'] - fibo_ta_df['month_fibo_500'])/abs(fibo_ta_df['month_fibo_500'])\n",
    "        fibo_ta_df['from_month_fibo_618'] = (fibo_ta_df['close'] - fibo_ta_df['month_fibo_618'])/abs(fibo_ta_df['month_fibo_618'])\n",
    "\n",
    "        fibo_ta_df['from_quarter_fibo_382'] = (fibo_ta_df['close'] - fibo_ta_df['quarter_fibo_382'])/abs(fibo_ta_df['quarter_fibo_382'])\n",
    "        fibo_ta_df['from_quarter_fibo_500'] = (fibo_ta_df['close'] - fibo_ta_df['quarter_fibo_500'])/abs(fibo_ta_df['quarter_fibo_500'])\n",
    "        fibo_ta_df['from_quarter_fibo_618'] = (fibo_ta_df['close'] - fibo_ta_df['quarter_fibo_618'])/abs(fibo_ta_df['quarter_fibo_618'])\n",
    "\n",
    "        fibo_ta_df['from_year_fibo_382'] = (fibo_ta_df['close'] - fibo_ta_df['year_fibo_382'])/abs(fibo_ta_df['year_fibo_382'])\n",
    "        fibo_ta_df['from_year_fibo_500'] = (fibo_ta_df['close'] - fibo_ta_df['year_fibo_500'])/abs(fibo_ta_df['year_fibo_500'])\n",
    "        fibo_ta_df['from_year_fibo_618'] = (fibo_ta_df['close'] - fibo_ta_df['year_fibo_618'])/abs(fibo_ta_df['year_fibo_618'])\n",
    "\n",
    "    if input_type == 'index':\n",
    "            \n",
    "        fibo_ta_df['from_month_fibo_382'] = (fibo_ta_df['close'] - fibo_ta_df['month_fibo_382'])\n",
    "        fibo_ta_df['from_month_fibo_500'] = (fibo_ta_df['close'] - fibo_ta_df['month_fibo_500'])\n",
    "        fibo_ta_df['from_month_fibo_618'] = (fibo_ta_df['close'] - fibo_ta_df['month_fibo_618'])\n",
    "\n",
    "        fibo_ta_df['from_quarter_fibo_382'] = (fibo_ta_df['close'] - fibo_ta_df['quarter_fibo_382'])\n",
    "        fibo_ta_df['from_quarter_fibo_500'] = (fibo_ta_df['close'] - fibo_ta_df['quarter_fibo_500'])\n",
    "        fibo_ta_df['from_quarter_fibo_618'] = (fibo_ta_df['close'] - fibo_ta_df['quarter_fibo_618'])\n",
    "\n",
    "        fibo_ta_df['from_year_fibo_382'] = (fibo_ta_df['close'] - fibo_ta_df['year_fibo_382'])\n",
    "        fibo_ta_df['from_year_fibo_500'] = (fibo_ta_df['close'] - fibo_ta_df['year_fibo_500'])\n",
    "        fibo_ta_df['from_year_fibo_618'] = (fibo_ta_df['close'] - fibo_ta_df['year_fibo_618'])\n",
    "\n",
    "    return fibo_ta_df"
   ]
  },
  {
   "cell_type": "code",
   "execution_count": 318,
   "metadata": {},
   "outputs": [],
   "source": [
    "def calculate_pivot_ta_df(ta_df, input_type):\n",
    "    pivot_ta_df = calculate_ta_df(ta_df)\n",
    "\n",
    "    try: pivot_ta_df['month_peak'] = pivot_ta_df[pivot_ta_df['month']==pivot_ta_df['month'].unique()[1]]['high'].max()\n",
    "    except: pivot_ta_df['month_peak'] = None\n",
    "    try: pivot_ta_df['quarter_peak'] = pivot_ta_df[pivot_ta_df['quarter']==pivot_ta_df['quarter'].unique()[1]]['high'].max()\n",
    "    except: pivot_ta_df['quarter_peak'] = None\n",
    "    try: pivot_ta_df['year_peak'] = pivot_ta_df[pivot_ta_df['year']==pivot_ta_df['year'].unique()[1]]['high'].max()\n",
    "    except: pivot_ta_df['year_peak'] = None\n",
    "\n",
    "    try: pivot_ta_df['month_bottom'] = pivot_ta_df[pivot_ta_df['month']==pivot_ta_df['month'].unique()[1]]['low'].min()\n",
    "    except: pivot_ta_df['month_bottom'] = None\n",
    "    try: pivot_ta_df['quarter_bottom'] = pivot_ta_df[pivot_ta_df['quarter']==pivot_ta_df['quarter'].unique()[1]]['low'].min()\n",
    "    except: pivot_ta_df['quarter_bottom'] = None\n",
    "    try: pivot_ta_df['year_bottom'] = pivot_ta_df[pivot_ta_df['year']==pivot_ta_df['year'].unique()[1]]['low'].min()\n",
    "    except: pivot_ta_df['year_bottom'] = None\n",
    "\n",
    "    try: pivot_ta_df['month_close'] = pivot_ta_df[pivot_ta_df['month']==pivot_ta_df['month'].unique()[1]]['close'].iloc[0]\n",
    "    except: pivot_ta_df['month_close'] = None\n",
    "    try: pivot_ta_df['quarter_close'] = pivot_ta_df[pivot_ta_df['quarter']==pivot_ta_df['quarter'].unique()[1]]['close'].iloc[0]\n",
    "    except: pivot_ta_df['quarter_close'] = None\n",
    "    try: pivot_ta_df['year_close'] = pivot_ta_df[pivot_ta_df['year']==pivot_ta_df['year'].unique()[1]]['close'].iloc[0]\n",
    "    except: pivot_ta_df['year_close'] = None\n",
    "\n",
    "    pivot_ta_df['month_pivot_p'] = (pivot_ta_df['month_peak'] + pivot_ta_df['month_bottom'] + pivot_ta_df['month_close'])/3\n",
    "    pivot_ta_df['quarter_pivot_p'] = (pivot_ta_df['quarter_peak'] + pivot_ta_df['quarter_bottom'] + pivot_ta_df['quarter_close'])/3\n",
    "    pivot_ta_df['year_pivot_p'] = (pivot_ta_df['year_peak'] + pivot_ta_df['year_bottom'] + pivot_ta_df['year_close'])/3\n",
    "\n",
    "    if input_type == 'index':\n",
    "        pivot_ta_df['from_month_pivot_p'] = (pivot_ta_df['close'] - pivot_ta_df['month_pivot_p'])\n",
    "        pivot_ta_df['from_quarter_pivot_p'] = (pivot_ta_df['close'] - pivot_ta_df['quarter_pivot_p'])\n",
    "        pivot_ta_df['from_year_pivot_p'] = (pivot_ta_df['close'] - pivot_ta_df['year_pivot_p'])\n",
    "\n",
    "    if input_type == 'stock':\n",
    "        pivot_ta_df['from_month_pivot_p'] = (pivot_ta_df['close'] - pivot_ta_df['month_pivot_p'])/abs(pivot_ta_df['month_pivot_p'])\n",
    "        pivot_ta_df['from_quarter_pivot_p'] = (pivot_ta_df['close'] - pivot_ta_df['quarter_pivot_p'])/abs(pivot_ta_df['quarter_pivot_p'])\n",
    "        pivot_ta_df['from_year_pivot_p'] = (pivot_ta_df['close'] - pivot_ta_df['year_pivot_p'])/abs(pivot_ta_df['year_pivot_p'])\n",
    "\n",
    "    return pivot_ta_df"
   ]
  },
  {
   "cell_type": "code",
   "execution_count": 319,
   "metadata": {},
   "outputs": [],
   "source": [
    "def calculate_ma_ta_df(ta_df,input_type):\n",
    "\n",
    "    ma_ta_df = calculate_ta_df(ta_df)\n",
    "    ma_ta_df['ma5'] = ma_ta_df['close'][::-1].rolling(window=5, min_periods=1).mean()[::-1]\n",
    "    ma_ta_df['ma20'] = ma_ta_df['close'][::-1].rolling(window=20, min_periods=1).mean()[::-1]\n",
    "    ma_ta_df['ma60'] = ma_ta_df['close'][::-1].rolling(window=60, min_periods=1).mean()[::-1]\n",
    "    ma_ta_df['ma120'] = ma_ta_df['close'][::-1].rolling(window=120, min_periods=1).mean()[::-1]\n",
    "    ma_ta_df['ma240'] = ma_ta_df['close'][::-1].rolling(window=240, min_periods=1).mean()[::-1]\n",
    "    ma_ta_df['ma480'] = ma_ta_df['close'][::-1].rolling(window=480, min_periods=1).mean()[::-1]\n",
    "\n",
    "    if input_type == 'stock':\n",
    "\n",
    "        ma_ta_df['from_ma5'] = (ma_ta_df['close'] - ma_ta_df['ma5'])/ma_ta_df['ma5']\n",
    "        ma_ta_df['from_ma20'] = (ma_ta_df['close'] - ma_ta_df['ma20'])/ma_ta_df['ma20']\n",
    "        ma_ta_df['from_ma60'] = (ma_ta_df['close'] - ma_ta_df['ma60'])/ma_ta_df['ma60']\n",
    "        ma_ta_df['from_ma120'] = (ma_ta_df['close'] - ma_ta_df['ma120'])/ma_ta_df['ma120']\n",
    "        ma_ta_df['from_ma240'] = (ma_ta_df['close'] - ma_ta_df['ma240'])/ma_ta_df['ma240']\n",
    "        ma_ta_df['from_ma480'] = (ma_ta_df['close'] - ma_ta_df['ma480'])/ma_ta_df['ma480']\n",
    "\n",
    "    if input_type == 'index':\n",
    "\n",
    "        ma_ta_df['from_ma5'] = (ma_ta_df['close'] - ma_ta_df['ma5'])\n",
    "        ma_ta_df['from_ma20'] = (ma_ta_df['close'] - ma_ta_df['ma20'])\n",
    "        ma_ta_df['from_ma60'] = (ma_ta_df['close'] - ma_ta_df['ma60'])\n",
    "        ma_ta_df['from_ma120'] = (ma_ta_df['close'] - ma_ta_df['ma120'])\n",
    "        ma_ta_df['from_ma240'] = (ma_ta_df['close'] - ma_ta_df['ma240'])\n",
    "        ma_ta_df['from_ma480'] = (ma_ta_df['close'] - ma_ta_df['ma480'])\n",
    "\n",
    "    return ma_ta_df"
   ]
  },
  {
   "cell_type": "code",
   "execution_count": 320,
   "metadata": {},
   "outputs": [],
   "source": [
    "def transform_ta_df(ta_df,ta_name):\n",
    "    df_list = []\n",
    "    for time_frame in ['month','quarter','year']:\n",
    "        if ta_name == 'candle':\n",
    "            df = ta_df[['stock',f'{time_frame}_open',f'{time_frame}_peak',f'{time_frame}_bottom',f'from_{time_frame}_open',f'from_{time_frame}_peak',f'from_{time_frame}_bottom']].iloc[:1]\n",
    "            df_name = ['Open','High','Low']\n",
    "            coef = 4\n",
    "        elif ta_name == 'fibo':\n",
    "            df = ta_df[['stock',f'{time_frame}_fibo_382',f'{time_frame}_fibo_500',f'{time_frame}_fibo_618',f'from_{time_frame}_fibo_382',f'from_{time_frame}_fibo_500',f'from_{time_frame}_fibo_618']].iloc[:1]\n",
    "            df_name = ['Fibo 0.382', 'Fibo 0.500', 'Fibo 0.618']\n",
    "            coef = 4\n",
    "        elif ta_name == 'pivot':\n",
    "            df = ta_df[['stock',f'{time_frame}_pivot_p',f'from_{time_frame}_pivot_p']].iloc[:1]\n",
    "            df_name = ['Pivot']\n",
    "            coef = 2\n",
    "        elif ta_name == 'ma':\n",
    "            if time_frame == 'month':\n",
    "                df = ta_df[['stock','ma5','ma20','from_ma5','from_ma20']].iloc[:1]\n",
    "                df_name = ['MA5','MA20']\n",
    "            elif time_frame == 'quarter':\n",
    "                df = ta_df[['stock','ma60','ma120','from_ma60','from_ma120']].iloc[:1]\n",
    "                df_name = ['MA60','MA120']\n",
    "            elif time_frame == 'year':\n",
    "                df = ta_df[['stock','ma240','ma480','from_ma240','from_ma480']].iloc[:1]\n",
    "                df_name = ['MA240','MA480']\n",
    "            coef = 3\n",
    "        df_value = df.iloc[0,1:coef].tolist()\n",
    "        df_from = df.iloc[0,coef:].tolist()\n",
    "\n",
    "        if ta_name == 'pivot':\n",
    "            df_order = 3\n",
    "        else:\n",
    "            df_order = [i for i in range(1, len(df_name) + 1)]\n",
    "            \n",
    "        df = pd.DataFrame({'stock':df['stock'].item(),'name': df_name,'value': df_value,'from': df_from, 'order': df_order})\n",
    "        df['id'] = time_frame\n",
    "        df['ta_name'] = ta_name\n",
    "        df['value'] = df['value'].apply(lambda x: '{:.2f}'.format(x) if isinstance(x, (int, float)) else x)\n",
    "        df_list.append(df)\n",
    "    cancat_df = pd.concat(df_list, axis=0)\n",
    "    return cancat_df\n",
    "\n",
    "def concat_ta_df(ta_df,input_type):\n",
    "    df_candle_raw = calculate_candle_ta_df(ta_df,input_type)\n",
    "    df_pivot_raw = calculate_pivot_ta_df(ta_df,input_type)\n",
    "    df_ma_raw = calculate_ma_ta_df(ta_df,input_type)\n",
    "    df_fibo_raw = calculate_fibo_ta_df(ta_df,input_type)\n",
    "\n",
    "    df_candle = transform_ta_df(df_candle_raw,'candle')\n",
    "    df_pivot = transform_ta_df(df_pivot_raw,'pivot')\n",
    "    df_ma = transform_ta_df(df_ma_raw,'ma')\n",
    "    df_fibo = transform_ta_df(df_fibo_raw,'fibo')\n",
    "\n",
    "    concat_ta_df = pd.concat([df_candle,df_fibo,df_pivot,df_ma], axis=0)\n",
    "\n",
    "    return concat_ta_df"
   ]
  },
  {
   "cell_type": "markdown",
   "metadata": {},
   "source": [
    "#### Page 1: Tổng quan thị trường"
   ]
  },
  {
   "cell_type": "markdown",
   "metadata": {},
   "source": [
    "- Bảng hiển thị 5 chỉ số dạng Card"
   ]
  },
  {
   "cell_type": "code",
   "execution_count": 321,
   "metadata": {},
   "outputs": [],
   "source": [
    "index_card_dict = {}\n",
    "for index, df in eod_index_dict.items():\n",
    "    df['change_value'] = df['close'][::-1].diff()[::-1]\n",
    "    df['change_percent'] = (df['close'][::-1].pct_change()[::-1]).round(4)\n",
    "\n",
    "    index_card_dict[index] = df.iloc[0]\n",
    "\n",
    "index_card_df = pd.DataFrame(index_card_dict).transpose().drop(['open', 'high', 'low'], axis=1).reset_index(drop=True)"
   ]
  },
  {
   "cell_type": "markdown",
   "metadata": {},
   "source": [
    "- Ghép bảng vẽ biểu đồ đường cho 5 chỉ số index"
   ]
  },
  {
   "cell_type": "code",
   "execution_count": 322,
   "metadata": {},
   "outputs": [],
   "source": [
    "index_value_df = date_series.copy()\n",
    "for index, df in eod_index_dict.items():\n",
    "    index_value_df[index] = df['close']\n",
    "\n",
    "index_value_df = index_value_df.iloc[:60]\n",
    "index_value_df = index_value_df.melt(id_vars=['date'], var_name='index_name', value_name='value')"
   ]
  },
  {
   "cell_type": "markdown",
   "metadata": {},
   "source": [
    "- Tính bảng chỉ số kĩ thuật cho các index"
   ]
  },
  {
   "cell_type": "code",
   "execution_count": 323,
   "metadata": {},
   "outputs": [],
   "source": [
    "ta_index_df = pd.DataFrame()\n",
    "for index, df in eod_index_dict.items():\n",
    "    temp_df = concat_ta_df(df, 'index')\n",
    "    ta_index_df = pd.concat([ta_index_df, temp_df], axis=0)"
   ]
  },
  {
   "cell_type": "markdown",
   "metadata": {},
   "source": [
    "- Tâm lý và thanh khoản"
   ]
  },
  {
   "cell_type": "code",
   "execution_count": 324,
   "metadata": {},
   "outputs": [],
   "source": [
    "#Tính bảng hệ số thanh khoản ITD\n",
    "#Sử dụng cột all_stock trong bảng itd_score_liquidity_df"
   ]
  },
  {
   "cell_type": "code",
   "execution_count": 325,
   "metadata": {},
   "outputs": [],
   "source": [
    "#Tính bảng chỉ số tâm lý\n",
    "market_sentiment = time_series.copy()\n",
    "\n",
    "for stock, df in itd_score_dict.items():\n",
    "    temp_df = time_series.copy()\n",
    "    temp_df['price_change'] = df['price_change'].apply(lambda x: 1 if x>= 0 else -1)\n",
    "    temp_df['t0_score'] = df['t0_score'].apply(lambda x: 1 if x>= 0 else -1)\n",
    "    temp_df['total'] = temp_df.iloc[:,1:].sum(axis=1)\n",
    "\n",
    "    market_sentiment[stock] = temp_df['total'].apply(lambda x: 1 if x > 0 else (-1 if x < 0 else 0))\n",
    "\n",
    "market_sentiment['count'] = market_sentiment.iloc[:,1:].sum(axis=1)\n",
    "market_sentiment['total'] = len(itd_score_dict)\n",
    "\n",
    "market_sentiment = market_sentiment[['date','count','total']].iloc[:-3]\n",
    "\n",
    "market_sentiment['ratio'] = market_sentiment['count'] / market_sentiment['total']\n",
    "\n",
    "market_sentiment['sentiment'] = market_sentiment['ratio'].apply(lambda x: 'Sợ hãi' if x < -0.8 else\n",
    "                                                                ('Tiêu cực' if (x >= -0.8) & (x < -0.2) else\n",
    "                                                                ('Trung lập' if (x >= -0.2) & (x < 0.2) else\n",
    "                                                                ('Tích cực' if (x >= 0.2) & (x < 0.8) else 'Hưng phấn'))))"
   ]
  },
  {
   "cell_type": "code",
   "execution_count": 326,
   "metadata": {},
   "outputs": [],
   "source": [
    "# #Tính bảng chỉ số tâm lý\n",
    "# market_sentiment = time_series.copy()\n",
    "# total_count = 0\n",
    "\n",
    "# for stock, df in itd_score_dict.items():\n",
    "#     total_count += 1\n",
    "#     market_sentiment[stock] = df['t0_score']\n",
    "\n",
    "# market_sentiment['count'] = market_sentiment.iloc[:,1:].apply(lambda row: (row > 0).sum(), axis=1)\n",
    "# market_sentiment['total'] = total_count\n",
    "# market_sentiment = market_sentiment[['date','count','total']].iloc[:-3]\n",
    "# market_sentiment['ratio'] = market_sentiment['count'] / market_sentiment['total']\n",
    "# market_sentiment['sentiment'] = market_sentiment['ratio'].apply(lambda x: 'Sợ hãi' if x < 0.1 else\n",
    "#                                                                 ('Tiêu cực' if (x >= 0.1) & (x < 0.4) else\n",
    "#                                                                 ('Trung lập' if (x >= 0.4) & (x < 0.6) else\n",
    "#                                                                 ('Tích cực' if (x >= 0.6) & (x < 0.9) else 'Hưng phấn'))))"
   ]
  },
  {
   "cell_type": "markdown",
   "metadata": {},
   "source": [
    "- Dữ liệu cho biểu đồ MS"
   ]
  },
  {
   "cell_type": "code",
   "execution_count": 327,
   "metadata": {},
   "outputs": [],
   "source": [
    "eod_market_ms = eod_all_stock_ms['all_stock'].copy()\n",
    "eod_market_ms['type'] = 'eod'\n",
    "\n",
    "itd_market_ms = itd_all_stock_ms['all_stock'].copy()\n",
    "itd_market_ms['type'] = 'itd'\n",
    "\n",
    "market_ms = pd.concat([eod_market_ms, itd_market_ms], axis=0)"
   ]
  },
  {
   "cell_type": "markdown",
   "metadata": {},
   "source": [
    "- Dữ liệu top 10 cổ phiếu tiền vào và tiền ra"
   ]
  },
  {
   "cell_type": "code",
   "execution_count": 328,
   "metadata": {},
   "outputs": [],
   "source": [
    "market_top_10 = eod_score_df[['stock', 'industry_name','industry_perform','marketcap_group','close','price_change','t0_score']].iloc[:10]\n",
    "market_top_10['type'] = 'top'\n",
    "\n",
    "market_bottom_10 = eod_score_df[['stock', 'industry_name','industry_perform','marketcap_group','close','price_change','t0_score']].iloc[:10]\n",
    "market_bottom_10['type'] = 'bottom'\n",
    "\n",
    "market_top_stock = pd.concat([market_top_10, market_bottom_10], axis=0).reset_index(drop=True)"
   ]
  },
  {
   "cell_type": "markdown",
   "metadata": {},
   "source": [
    "#### Page 2: Dòng tiền thị trường"
   ]
  },
  {
   "cell_type": "markdown",
   "metadata": {},
   "source": [
    "- Tính toán độ rộng của tất cả nhóm cổ phiếu trong phiên T0"
   ]
  },
  {
   "cell_type": "code",
   "execution_count": 329,
   "metadata": {},
   "outputs": [],
   "source": [
    "# Hàm tính độ rộng thị trường\n",
    "def calculate_breadth(name, stock_list):\n",
    "    up_count = 0\n",
    "    down_count = 0\n",
    "\n",
    "    for stock, df in eod_score_dict.items():\n",
    "        if stock in stock_list:\n",
    "            if df['t0_score'].iloc[0].item() >= 0:\n",
    "                up_count += 1\n",
    "            if df['t0_score'].iloc[0].item() < 0:\n",
    "                down_count += 1\n",
    "\n",
    "    return [name, up_count, down_count]\n",
    "\n",
    "# Lấy các giá trị duy nhất từng cột và chuyển thành danh sách\n",
    "industry_names = stock_classification['industry_name'].unique().tolist()\n",
    "industry_performs = stock_classification['industry_perform'].unique().tolist()\n",
    "marketcap_groups = stock_classification['marketcap_group'].unique().tolist()\n",
    "\n",
    "# Gộp các danh sách lại thành một\n",
    "group_stock_name_list = industry_names + industry_performs + marketcap_groups\n",
    "\n",
    "market_breath_list = []\n",
    "for name in group_stock_name_list:\n",
    "    if name in industry_names:\n",
    "        market_breath_list.append(calculate_breadth(name, stock_classification_filtered[stock_classification_filtered['industry_name']==name]['stock'].tolist()))\n",
    "    elif name in industry_performs:\n",
    "        market_breath_list.append(calculate_breadth(name, stock_classification_filtered[stock_classification_filtered['industry_perform']==name]['stock'].tolist()))\n",
    "    elif name in marketcap_groups:\n",
    "        market_breath_list.append(calculate_breadth(name, stock_classification_filtered[stock_classification_filtered['marketcap_group']==name]['stock'].tolist()))\n",
    "\n",
    "market_breath_df = pd.DataFrame(market_breath_list, columns=['name','in_flow','out_flow'])"
   ]
  },
  {
   "cell_type": "markdown",
   "metadata": {},
   "source": [
    "- Dữ liệu cho biểu đồ dòng tiền và thanh khoản ITD toàn thị trường"
   ]
  },
  {
   "cell_type": "code",
   "execution_count": 330,
   "metadata": {},
   "outputs": [],
   "source": [
    "#Sử dụng dữ liệu của bảng itd_score_liquidity_df"
   ]
  },
  {
   "cell_type": "markdown",
   "metadata": {},
   "source": [
    "- Dữ liệu cho biểu đồ dòng tiền trong tuần và trong tháng"
   ]
  },
  {
   "cell_type": "code",
   "execution_count": 331,
   "metadata": {},
   "outputs": [],
   "source": [
    "#Sử dụng dữ liệu của bảng group_score_week và group_score_month"
   ]
  },
  {
   "cell_type": "markdown",
   "metadata": {},
   "source": [
    "- Dữ liệu diễn biến thanh khoản toàn thị trường 20p"
   ]
  },
  {
   "cell_type": "code",
   "execution_count": 332,
   "metadata": {},
   "outputs": [],
   "source": [
    "#Sử dụng dữ liệu của bảng eod_group_liquidity_df cột all_stock"
   ]
  },
  {
   "cell_type": "markdown",
   "metadata": {},
   "source": [
    "- Dữ liệu cho dòng tiền và thanh khoản các nhóm cổ phiếu ITD"
   ]
  },
  {
   "cell_type": "code",
   "execution_count": 333,
   "metadata": {},
   "outputs": [],
   "source": [
    "#Sử dụng dữ liệu của bảng itd_score_liquidity_df"
   ]
  },
  {
   "cell_type": "markdown",
   "metadata": {},
   "source": [
    "- Dữ liệu cho dòng tiền T+ và xếp hạng các nhóm trong 20 phiên"
   ]
  },
  {
   "cell_type": "code",
   "execution_count": 334,
   "metadata": {},
   "outputs": [],
   "source": [
    "#Bảng diễn biến xếp hạng các nhóm cổ phiếu 20 phiên\n",
    "#Sử dụng dữ liệu trong group_score_ranking"
   ]
  },
  {
   "cell_type": "code",
   "execution_count": 335,
   "metadata": {},
   "outputs": [],
   "source": [
    "#Tạo bảng chỉ số dòng tiền T0 tới T5\n",
    "group_score_df_5p = eod_group_score_df.iloc[:5,:-4]\n",
    "group_score_df_5p['id'] = ['T-0','T-1','T-2','T-3','T-4']\n",
    "group_score_df_5p = group_score_df_5p.drop(columns=['date'],axis=1).set_index('id').transpose().reset_index().rename(columns={'index':'name'})\n",
    "group_score_df_5p['name'] = group_score_df_5p['name'].map(name_map_dict)"
   ]
  },
  {
   "cell_type": "markdown",
   "metadata": {},
   "source": [
    "- Bảng xếp hạng 23 ngành theo thứ tự từ trên xuống dưới"
   ]
  },
  {
   "cell_type": "code",
   "execution_count": 336,
   "metadata": {},
   "outputs": [],
   "source": [
    "full_industry_ranking = group_score_ranking[['date',                                     \n",
    "        'ban_le', 'bao_hiem', 'bds', 'bds_kcn','chung_khoan', \n",
    "        'cong_nghe','cong_nghiep', 'dau_khi', 'det_may','dulich_dv',\n",
    "        'dv_hatang', 'hoa_chat', 'htd', 'khoang_san', 'ngan_hang','tai_chinh',\n",
    "        'thep', 'thuc_pham', 'thuy_san', 'van_tai', 'vlxd', 'xd','y_te']]\n",
    "\n",
    "for column in full_industry_ranking.columns[1:]:\n",
    "    full_industry_ranking[column] = full_industry_ranking[column][::-1].rolling(window=5).mean()[::-1]\n",
    "\n",
    "full_industry_ranking = pd.DataFrame(full_industry_ranking.iloc[0, 1:]).rename(columns={0: 'score'})\n",
    "full_industry_ranking['rank'] = full_industry_ranking['score'].rank(ascending=False, method='min')"
   ]
  },
  {
   "cell_type": "markdown",
   "metadata": {},
   "source": [
    "#### Page 3: Phân tích nhóm ngành"
   ]
  },
  {
   "cell_type": "markdown",
   "metadata": {},
   "source": [
    "- Biểu đồ đường thể hiện index các nhóm cổ phiếu"
   ]
  },
  {
   "cell_type": "code",
   "execution_count": 337,
   "metadata": {},
   "outputs": [],
   "source": [
    "def calculate_index(stock_group, name):\n",
    "    price_index_date_series_copy = copy.deepcopy(price_index_date_series)\n",
    "\n",
    "    for stock, df in stock_group[name].items():\n",
    "        price_index_date_series_copy[stock] = df['close']\n",
    "        price_index_date_series_copy[stock] = price_index_date_series_copy[stock][::-1].pct_change()[::-1]\n",
    "\n",
    "    price_index_date_series_copy['total_change'] = price_index_date_series_copy.iloc[:,1:].sum(axis=1)\n",
    "    price_index_date_series_copy['total_change'] = (price_index_date_series_copy['total_change']/len(stock_group[name]))*100\n",
    "    price_index_date_series_copy['index_value'] = price_index_date_series_copy['total_change'][::-1].cumsum()[::-1]\n",
    "\n",
    "    return price_index_date_series_copy['index_value'].iloc[:60]"
   ]
  },
  {
   "cell_type": "code",
   "execution_count": 338,
   "metadata": {},
   "outputs": [],
   "source": [
    "#Lấy ra một date_series bao gồm năm nay và năm trước\n",
    "price_index_date_series = pd.DataFrame(eod_index_dict['VNINDEX']['date'])\n",
    "previous_year = price_index_date_series['date'].iloc[0].year - 1\n",
    "price_index_date_series = price_index_date_series.loc[price_index_date_series['date'] > pd.Timestamp(year=previous_year, month=1, day=1)]\n",
    "\n",
    "group_stock_price_index = date_series.copy()\n",
    "\n",
    "for group, df in eod_industry_name.items():\n",
    "    group_stock_price_index[group] = calculate_index(eod_industry_name, group)\n"
   ]
  },
  {
   "cell_type": "markdown",
   "metadata": {},
   "source": [
    "- Biểu đồ MS của các nhóm cổ phiếu"
   ]
  },
  {
   "cell_type": "code",
   "execution_count": 339,
   "metadata": {},
   "outputs": [],
   "source": [
    "#Tạo bảng gốc để nối các bảng lại\n",
    "group_stock_ms = pd.DataFrame()\n",
    "\n",
    "#Tạo bảng tổng hợp MS các nhóm cổ phiếu EOD\n",
    "eod_zip_group_stock_ms = zip(eod_industry_name_ms.items(), eod_industry_perform_ms.items(), eod_marketcap_group_ms.items())\n",
    "\n",
    "for (industry_name, industry_name_ms), (industry_perform, industry_perform_ms), (marketcap_group, marketcap_group_ms) in eod_zip_group_stock_ms:\n",
    "    industry_name_ms['name'] = industry_name\n",
    "    industry_perform_ms['name'] = industry_perform\n",
    "    marketcap_group_ms['name'] = marketcap_group\n",
    "\n",
    "    industry_name_ms['type'] = 'eod'\n",
    "    industry_perform_ms['type'] = 'eod'\n",
    "    marketcap_group_ms['type'] = 'eod'\n",
    "\n",
    "    group_stock_ms = pd.concat([group_stock_ms, industry_name_ms, industry_perform_ms, marketcap_group_ms], axis=0)\n",
    "\n",
    "#Tạo bảng tổng hợp MS các nhóm cổ phiếu ITD\n",
    "itd_zip_group_stock_ms = zip(itd_industry_name_ms.items(), itd_industry_perform_ms.items(), itd_marketcap_group_ms.items())\n",
    "\n",
    "for (industry_name, industry_name_ms), (industry_perform, industry_perform_ms), (marketcap_group, marketcap_group_ms) in itd_zip_group_stock_ms:\n",
    "    industry_name_ms['name'] = industry_name\n",
    "    industry_perform_ms['name'] = industry_perform\n",
    "    marketcap_group_ms['name'] = marketcap_group\n",
    "\n",
    "    industry_name_ms['type'] = 'itd'\n",
    "    industry_perform_ms['type'] = 'itd'\n",
    "    marketcap_group_ms['type'] = 'itd'\n",
    "\n",
    "    group_stock_ms = pd.concat([group_stock_ms, industry_name_ms, industry_perform_ms, marketcap_group_ms], axis=0)  "
   ]
  },
  {
   "cell_type": "markdown",
   "metadata": {},
   "source": [
    "- Biểu đồ dòng tiền và thanh khoản T0"
   ]
  },
  {
   "cell_type": "code",
   "execution_count": 340,
   "metadata": {},
   "outputs": [],
   "source": [
    "#Lấy từ bảng itd_score_liquidity_df"
   ]
  },
  {
   "cell_type": "markdown",
   "metadata": {},
   "source": [
    "- Biểu đồ dòng tiền trong tuần và trong tháng"
   ]
  },
  {
   "cell_type": "code",
   "execution_count": 341,
   "metadata": {},
   "outputs": [],
   "source": [
    "#Lấy từ bảng group_score_week và group_score_month"
   ]
  },
  {
   "cell_type": "markdown",
   "metadata": {},
   "source": [
    "- Biểu đồ diễn biến xếp hạng của nhóm cổ phiếu trong 20p"
   ]
  },
  {
   "cell_type": "code",
   "execution_count": 342,
   "metadata": {},
   "outputs": [],
   "source": [
    "group_score_ranking_melted = group_score_ranking.iloc[:20].melt(id_vars=['date'], var_name='group_name', value_name='value')"
   ]
  },
  {
   "cell_type": "markdown",
   "metadata": {},
   "source": [
    "- Biểu đồ hệ số thanh khoản của nhóm cổ phiếu trong 20p"
   ]
  },
  {
   "cell_type": "code",
   "execution_count": 343,
   "metadata": {},
   "outputs": [],
   "source": [
    "group_liquidity_melted = eod_group_liquidity_df.iloc[:20].melt(id_vars=['date'], var_name='group_name', value_name='value')"
   ]
  },
  {
   "cell_type": "markdown",
   "metadata": {},
   "source": [
    "- Top cổ phiếu tích cực trong nhóm"
   ]
  },
  {
   "cell_type": "code",
   "execution_count": 344,
   "metadata": {},
   "outputs": [],
   "source": [
    "group_stock_top_10_df = pd.DataFrame()\n",
    "\n",
    "for group in eod_group_score_df.columns[2:-4]:\n",
    "    if group in stock_classification_filtered['industry_name'].unique():\n",
    "        temp_group_stock_list = stock_classification_filtered[stock_classification_filtered['industry_name']==group]['stock'].tolist()\n",
    "    elif group in stock_classification_filtered['stock_perform'].unique():\n",
    "        temp_group_stock_list = stock_classification_filtered[stock_classification_filtered['stock_perform']==group]['stock'].tolist()\n",
    "    elif group in stock_classification_filtered['marketcap_group'].unique():\n",
    "        temp_group_stock_list = stock_classification_filtered[stock_classification_filtered['marketcap_group']==group]['stock'].tolist()\n",
    "\n",
    "    group_stock_df = eod_score_df[eod_score_df['stock'].isin(temp_group_stock_list)][['stock', 'industry_name','industry_perform','marketcap_group','close','price_change','t0_score']]\n",
    "\n",
    "    group_stock_top_10 = group_stock_df.sort_values('t0_score', ascending=False).iloc[:10]\n",
    "    group_stock_top_10['name'] = group\n",
    "\n",
    "    group_stock_top_10_df = pd.concat([group_stock_top_10_df, group_stock_top_10], axis=0)"
   ]
  },
  {
   "cell_type": "markdown",
   "metadata": {},
   "source": [
    "#### Page 4: Phân tích cổ phiếu"
   ]
  },
  {
   "cell_type": "markdown",
   "metadata": {},
   "source": [
    "- Card thông tin cổ phiếu"
   ]
  },
  {
   "cell_type": "code",
   "execution_count": 345,
   "metadata": {},
   "outputs": [],
   "source": [
    "# Lấy dữ liệu từ bảng eod_score_df"
   ]
  },
  {
   "cell_type": "markdown",
   "metadata": {},
   "source": [
    "- Biểu đồ giá cổ phiếu"
   ]
  },
  {
   "cell_type": "code",
   "execution_count": 346,
   "metadata": {},
   "outputs": [],
   "source": [
    "stock_price_df = date_series.copy()\n",
    "for stock, df in eod_score_dict.items():\n",
    "    stock_price_df[stock] = eod_score_dict[stock]['close']\n",
    "stock_price_df = stock_price_df.melt(id_vars=['date'], var_name='stock', value_name='price')"
   ]
  },
  {
   "cell_type": "markdown",
   "metadata": {},
   "source": [
    "- Dữ liệu bảng phân tích kỹ thuật"
   ]
  },
  {
   "cell_type": "code",
   "execution_count": 347,
   "metadata": {},
   "outputs": [],
   "source": [
    "ta_stock_df = pd.DataFrame()\n",
    "for index, df in eod_all_stock['all_stock'].items():\n",
    "    df_copy = df.copy()\n",
    "    temp_df = concat_ta_df(df_copy, 'stock')\n",
    "    ta_stock_df = pd.concat([ta_stock_df, temp_df], axis=0)"
   ]
  },
  {
   "cell_type": "markdown",
   "metadata": {},
   "source": [
    "- Biểu đồ dòng tiền và thanh khoản T0"
   ]
  },
  {
   "cell_type": "code",
   "execution_count": 348,
   "metadata": {},
   "outputs": [],
   "source": [
    "stock_liquidty_score_t0 = pd.DataFrame()\n",
    "for stock, df in itd_score_dict.items():\n",
    "    stock_liquidty_score_t0 = pd.concat([stock_liquidty_score_t0, df[['stock', 'date','t0_score','liquid_ratio']]], axis=0)"
   ]
  },
  {
   "cell_type": "markdown",
   "metadata": {},
   "source": [
    "- Biểu đồ dòng tiền trong tuần và trong tháng"
   ]
  },
  {
   "cell_type": "code",
   "execution_count": 349,
   "metadata": {},
   "outputs": [],
   "source": [
    "# Lấy dữ liệu từ bảng stock_score_week và stock_score_month"
   ]
  },
  {
   "cell_type": "markdown",
   "metadata": {},
   "source": [
    "- Diễn biến xếp hạng dòng tiền cổ phiếu, tương quan dòng tiền, hệ số thanh khoản"
   ]
  },
  {
   "cell_type": "code",
   "execution_count": 350,
   "metadata": {},
   "outputs": [],
   "source": [
    "stock_score_power_df = pd.DataFrame()\n",
    "for stock, df in eod_score_dict.items():\n",
    "    temp_df = date_series.copy().iloc[:20]\n",
    "    temp_df['stock'] = stock\n",
    "    temp_df['close'] = eod_score_dict[stock]['close']\n",
    "    temp_df['liquid_ratio'] = eod_score_dict[stock]['liquid_ratio']\n",
    "    temp_df['t0_score'] = eod_score_dict[stock]['t0_score']\n",
    "    temp_df['rank_t0'] = eod_score_dict[stock]['rank_t0']\n",
    "    temp_df['top_rank_check'] = temp_df['rank_t0'].apply(lambda x: 1 if x < temp_df['rank_t0'].max()*0.1 else 0)\n",
    "    temp_df['bot_rank_check'] = temp_df['rank_t0'].apply(lambda x: 1 if x > temp_df['rank_t0'].max()*0.9 else 0)\n",
    "\n",
    "    temp_df['score_change'] = (temp_df['t0_score'][::-1].cumsum()[::-1] - temp_df['t0_score'].iloc[-1])/100\n",
    "    temp_df['price_change'] = temp_df['close'][::-1].pct_change()[::-1].fillna(0)[::-1].cumsum()[::-1]\n",
    "\n",
    "    stock_score_power_df = pd.concat([stock_score_power_df, temp_df], axis=0)"
   ]
  },
  {
   "cell_type": "markdown",
   "metadata": {},
   "source": [
    "- Diễn biến xếp hạng các nhóm ngành của cổ phiếu"
   ]
  },
  {
   "cell_type": "code",
   "execution_count": 351,
   "metadata": {},
   "outputs": [],
   "source": [
    "# Lấy dữ liệu từ bảng group_score_ranking_melted"
   ]
  },
  {
   "cell_type": "markdown",
   "metadata": {},
   "source": [
    "#### Page 5: Bộ lọc cổ phiếu"
   ]
  },
  {
   "cell_type": "code",
   "execution_count": 374,
   "metadata": {},
   "outputs": [],
   "source": [
    "ta_stock_df_copy = ta_stock_df.copy()\n",
    "ta_stock_df_copy['full_name'] = ta_stock_df_copy['name'].apply(lambda x: x.lower().replace(' ', '_').replace('0.', ''))\n",
    "ta_stock_df_copy['full_name'] = 'from'+ '_' + ta_stock_df_copy['id'] + '_' + ta_stock_df_copy['full_name'] \n",
    "\n",
    "ta_from_df = ta_stock_df_copy[['stock', 'full_name', 'from']]\n",
    "ta_from_df = ta_from_df.pivot(index='stock', columns='full_name', values='from').reset_index()\n",
    "\n",
    "filter_stock_df = eod_score_df.merge(ta_from_df, on='stock', how='left')"
   ]
  }
 ],
 "metadata": {
  "kernelspec": {
   "display_name": "Python 3",
   "language": "python",
   "name": "python3"
  },
  "language_info": {
   "codemirror_mode": {
    "name": "ipython",
    "version": 3
   },
   "file_extension": ".py",
   "mimetype": "text/x-python",
   "name": "python",
   "nbconvert_exporter": "python",
   "pygments_lexer": "ipython3",
   "version": "3.11.4"
  }
 },
 "nbformat": 4,
 "nbformat_minor": 2
}
